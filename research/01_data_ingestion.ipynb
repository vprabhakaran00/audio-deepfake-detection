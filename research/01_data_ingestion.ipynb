{
 "cells": [
  {
   "cell_type": "code",
   "execution_count": 1,
   "metadata": {},
   "outputs": [],
   "source": [
    "import os"
   ]
  },
  {
   "cell_type": "code",
   "execution_count": 2,
   "metadata": {},
   "outputs": [
    {
     "data": {
      "text/plain": [
       "'d:\\\\Projects\\\\DeepFake Voice Recognition\\\\audio-deepfake-detection\\\\research'"
      ]
     },
     "execution_count": 2,
     "metadata": {},
     "output_type": "execute_result"
    }
   ],
   "source": [
    "%pwd"
   ]
  },
  {
   "cell_type": "code",
   "execution_count": 3,
   "metadata": {},
   "outputs": [],
   "source": [
    "os.chdir('../')"
   ]
  },
  {
   "cell_type": "code",
   "execution_count": 4,
   "metadata": {},
   "outputs": [
    {
     "data": {
      "text/plain": [
       "'d:\\\\Projects\\\\DeepFake Voice Recognition\\\\audio-deepfake-detection'"
      ]
     },
     "execution_count": 4,
     "metadata": {},
     "output_type": "execute_result"
    }
   ],
   "source": [
    "%pwd"
   ]
  },
  {
   "cell_type": "code",
   "execution_count": 5,
   "metadata": {},
   "outputs": [],
   "source": [
    "from dataclasses import dataclass\n",
    "from pathlib import Path\n",
    "\n",
    "@dataclass(frozen=True)\n",
    "class DataIngestionConfig:\n",
    "    root_dir: Path\n",
    "    source_URL: str\n",
    "    local_data_file: Path\n",
    "    unzip_dir: Path"
   ]
  },
  {
   "cell_type": "code",
   "execution_count": 6,
   "metadata": {},
   "outputs": [],
   "source": [
    "from audioClassifier.constants import *\n",
    "from audioClassifier.utils.common import open_yaml_file, create_directories"
   ]
  },
  {
   "cell_type": "code",
   "execution_count": 7,
   "metadata": {},
   "outputs": [],
   "source": [
    "class ConfigManager:\n",
    "    def __init__(self, config_file = CONFIG_PATH, params_file = PARAMS_PATH):\n",
    "        self.config = open_yaml_file(config_file)\n",
    "        self.params = open_yaml_file(params_file)\n",
    "        \n",
    "        create_directories([self.config.artifacts_root])\n",
    "        create_directories([self.config.data_ingestion.root_dir])\n",
    "        \n",
    "    def read_data_ingestion_config(self) -> DataIngestionConfig:\n",
    "        data_ingestion = self.config.data_ingestion\n",
    "        \n",
    "        data_ingestion_config = DataIngestionConfig(\n",
    "            root_dir = data_ingestion.root_dir,\n",
    "            source_URL = data_ingestion.source_URL,\n",
    "            local_data_file = data_ingestion.local_data_file,\n",
    "            unzip_dir = data_ingestion.unzip_dir\n",
    "        )\n",
    "        \n",
    "        return data_ingestion_config"
   ]
  },
  {
   "cell_type": "code",
   "execution_count": 8,
   "metadata": {},
   "outputs": [],
   "source": [
    "import os\n",
    "import urllib.request as request\n",
    "import zipfile\n",
    "from audioClassifier import logger\n",
    "from audioClassifier.utils.common import get_file_size"
   ]
  },
  {
   "cell_type": "code",
   "execution_count": 9,
   "metadata": {},
   "outputs": [],
   "source": [
    "class DataIngestion:\n",
    "    def __init__(self, config: DataIngestionConfig):\n",
    "        self.config = config\n",
    "        \n",
    "    def download_file(self):\n",
    "        try:\n",
    "            if not os.path.exists(self.config.local_data_file):\n",
    "                self._retrieve_file()\n",
    "            else:\n",
    "                logger.info(f\"File already exists of size: {get_file_size(Path(self.config.local_data_file))}\")\n",
    "        except Exception as e:\n",
    "            logger.error(f\"Error occurred during file download: {e}\")\n",
    "              \n",
    "    def extract_file(self):\n",
    "        try:\n",
    "            path = self.config.unzip_dir\n",
    "            os.makedirs(path, exist_ok=True)\n",
    "            self._extract_zip_file(path)\n",
    "        except Exception as e:\n",
    "            logger.error(f\"Error occurred during file extraction: {e}\")\n",
    "            \n",
    "    def _retrieve_file(self):\n",
    "        filename, headers = request.urlretrieve(\n",
    "            url=self.config.source_URL,\n",
    "            filename=self.config.local_data_file\n",
    "        )\n",
    "        logger.info(f\"Downloaded {filename} with the following info:\\n{headers}\")\n",
    "\n",
    "    def _extract_zip_file(self, path: Path):\n",
    "        with zipfile.ZipFile(self.config.local_data_file, 'r') as zip_file:\n",
    "            zip_file.extractall(path)\n",
    "            logger.info(f\"Extracted file '{self.config.local_data_file}' to {path}\")"
   ]
  },
  {
   "cell_type": "code",
   "execution_count": 10,
   "metadata": {},
   "outputs": [
    {
     "name": "stderr",
     "output_type": "stream",
     "text": [
      "2024-04-26 15:45:55,662 - common.py - INFO - YAML file 'config\\config.yaml' was loaded successfully.\n",
      "2024-04-26 15:45:55,664 - common.py - INFO - YAML file 'params.yaml' was loaded successfully.\n",
      "2024-04-26 15:45:55,664 - common.py - INFO - Directory 'artifacts' created successfully or already exists.\n",
      "2024-04-26 15:45:55,666 - common.py - INFO - Directory 'artifacts/data_ingestion' created successfully or already exists.\n",
      "2024-04-26 15:47:50,567 - 1264272460.py - INFO - Downloaded artifacts/data_ingestion/data.zip with the following info:\n",
      "X-GUploader-UploadID: ABPtcPpc5gMF9Rw8SyRi0r2X42RrEewX--HaDbgSxES_ffZX77ibEXbF08mZ_56c1n58_MPx3gC0kzLhCQ\n",
      "Expires: Fri, 26 Apr 2024 22:45:55 GMT\n",
      "Date: Fri, 26 Apr 2024 22:45:55 GMT\n",
      "Cache-Control: private, max-age=0\n",
      "Last-Modified: Thu, 24 Aug 2023 13:24:58 GMT\n",
      "ETag: \"4963755b04520b3b4931da5c3cab6c49\"\n",
      "x-goog-generation: 1692883498228830\n",
      "x-goog-metageneration: 1\n",
      "x-goog-stored-content-encoding: identity\n",
      "x-goog-stored-content-length: 3954601429\n",
      "Content-Type: application/zip\n",
      "x-goog-hash: crc32c=gyVr1g==\n",
      "x-goog-hash: md5=SWN1WwRSCztJMdpcPKtsSQ==\n",
      "x-goog-storage-class: MULTI_REGIONAL\n",
      "Accept-Ranges: bytes\n",
      "Content-Length: 3954601429\n",
      "Access-Control-Allow-Origin: *\n",
      "Access-Control-Expose-Headers: Content-Type\n",
      "Access-Control-Expose-Headers: User-Agent\n",
      "Server: UploadServer\n",
      "Alt-Svc: h3=\":443\"; ma=2592000,h3-29=\":443\"; ma=2592000\n",
      "Connection: close\n",
      "\n",
      "\n",
      "2024-04-26 15:48:18,846 - 1264272460.py - INFO - Extracted file 'artifacts/data_ingestion/data.zip' to artifacts/data_ingestion\n"
     ]
    }
   ],
   "source": [
    "try:\n",
    "    config = ConfigManager()\n",
    "    data_ingestion_config = config.read_data_ingestion_config()\n",
    "    data_ingestion = DataIngestion(config = data_ingestion_config)\n",
    "    data_ingestion.download_file()\n",
    "    data_ingestion.extract_file()\n",
    "except Exception as e:\n",
    "    raise e"
   ]
  },
  {
   "cell_type": "code",
   "execution_count": null,
   "metadata": {},
   "outputs": [],
   "source": []
  }
 ],
 "metadata": {
  "kernelspec": {
   "display_name": "env",
   "language": "python",
   "name": "python3"
  },
  "language_info": {
   "codemirror_mode": {
    "name": "ipython",
    "version": 3
   },
   "file_extension": ".py",
   "mimetype": "text/x-python",
   "name": "python",
   "nbconvert_exporter": "python",
   "pygments_lexer": "ipython3",
   "version": "3.8.10"
  }
 },
 "nbformat": 4,
 "nbformat_minor": 2
}
