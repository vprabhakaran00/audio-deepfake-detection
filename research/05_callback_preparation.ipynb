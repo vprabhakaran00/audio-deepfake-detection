{
 "cells": [
  {
   "cell_type": "code",
   "execution_count": 1,
   "metadata": {},
   "outputs": [],
   "source": [
    "import os"
   ]
  },
  {
   "cell_type": "code",
   "execution_count": 2,
   "metadata": {},
   "outputs": [
    {
     "data": {
      "text/plain": [
       "'d:\\\\Projects\\\\DeepFake Voice Recognition\\\\audio-deepfake-detection\\\\research'"
      ]
     },
     "execution_count": 2,
     "metadata": {},
     "output_type": "execute_result"
    }
   ],
   "source": [
    "%pwd"
   ]
  },
  {
   "cell_type": "code",
   "execution_count": 3,
   "metadata": {},
   "outputs": [],
   "source": [
    "os.chdir(\"../\")"
   ]
  },
  {
   "cell_type": "code",
   "execution_count": 4,
   "metadata": {},
   "outputs": [
    {
     "data": {
      "text/plain": [
       "'d:\\\\Projects\\\\DeepFake Voice Recognition\\\\audio-deepfake-detection'"
      ]
     },
     "execution_count": 4,
     "metadata": {},
     "output_type": "execute_result"
    }
   ],
   "source": [
    "%pwd"
   ]
  },
  {
   "cell_type": "code",
   "execution_count": 5,
   "metadata": {},
   "outputs": [],
   "source": [
    "from dataclasses import dataclass\n",
    "from pathlib import Path\n",
    "\n",
    "@dataclass(frozen=True)\n",
    "class CallbackPreparationConfig:\n",
    "    root_dir: Path\n",
    "    tensorboard_log_dir: Path\n",
    "    model_checkpoint_path: Path\n",
    "    early_stopping_monitor: str\n",
    "    early_stopping_patience: int"
   ]
  },
  {
   "cell_type": "code",
   "execution_count": 6,
   "metadata": {},
   "outputs": [],
   "source": [
    "from audioClassifier.constants import *\n",
    "from audioClassifier.utils.common import open_yaml_file, create_directories"
   ]
  },
  {
   "cell_type": "code",
   "execution_count": 7,
   "metadata": {},
   "outputs": [],
   "source": [
    "class ConfigManager:\n",
    "    def __init__(self, config_file = CONFIG_PATH, params_file = PARAMS_PATH):\n",
    "        self.config = open_yaml_file(config_file)\n",
    "        self.params = open_yaml_file(params_file)\n",
    "        \n",
    "        create_directories([self.config.artifacts_root])\n",
    "        \n",
    "    def read_callback_prep_config(self) -> CallbackPreparationConfig:\n",
    "        callback_prep = self.config.callback_preparation\n",
    "        \n",
    "        checkpoint_dir = os.path.dirname(callback_prep.model_checkpoint_path)\n",
    "        create_directories([checkpoint_dir, self.config.callback_preparation.tensorboard_log_dir])\n",
    "        \n",
    "        callback_prep_config = CallbackPreparationConfig(\n",
    "            root_dir = callback_prep.root_dir,\n",
    "            tensorboard_log_dir = callback_prep.tensorboard_log_dir,\n",
    "            model_checkpoint_path = callback_prep.model_checkpoint_path,\n",
    "            early_stopping_monitor = self.params.early_stopping_monitor,\n",
    "            early_stopping_patience = self.params.early_stopping_patience \n",
    "        )\n",
    "        \n",
    "        return callback_prep_config"
   ]
  },
  {
   "cell_type": "code",
   "execution_count": 8,
   "metadata": {},
   "outputs": [],
   "source": [
    "import time\n",
    "from tensorflow.keras import callbacks\n",
    "from audioClassifier import logger"
   ]
  },
  {
   "cell_type": "code",
   "execution_count": 9,
   "metadata": {},
   "outputs": [],
   "source": [
    "class CallbackPreparation:\n",
    "    def __init__(self, config: CallbackPreparationConfig):\n",
    "        self.config = config\n",
    "        \n",
    "    def _get_timestamped_tb_directory(self):\n",
    "        timestamp = time.strftime(\"%Y-%m-%d--%H:%M:%S\")\n",
    "        return os.path.join(self.config.tensorboard_log_dir, f\"run-{timestamp}\")\n",
    "    \n",
    "    def prepare_callbacks(self):\n",
    "        tensorboard_log_dir = self._get_timestamped_tb_directory()\n",
    "        \n",
    "        try:\n",
    "            tensorboard_callback = callbacks.TensorBoard(log_dir = tensorboard_log_dir)\n",
    "            checkpoint_callback = callbacks.ModelCheckpoint(filepath = self.config.model_checkpoint_path, \n",
    "                                                            save_best_only = True)\n",
    "            early_stopping_callback = callbacks.EarlyStopping(monitor = self.config.early_stopping_monitor, \n",
    "                                                              patience = self.config.early_stopping_patience, \n",
    "                                                              restore_best_weights = True)\n",
    "            return [tensorboard_callback, checkpoint_callback, early_stopping_callback]\n",
    "        except Exception as e:\n",
    "            logger.error(f\"Error creating callbacks: {e}\")\n",
    "            raise e"
   ]
  },
  {
   "cell_type": "code",
   "execution_count": 10,
   "metadata": {},
   "outputs": [
    {
     "name": "stderr",
     "output_type": "stream",
     "text": [
      "2024-07-24 11:42:04,812 - common.py - INFO - YAML file 'config\\config.yaml' was loaded successfully.\n",
      "2024-07-24 11:42:04,819 - common.py - INFO - YAML file 'params.yaml' was loaded successfully.\n",
      "2024-07-24 11:42:04,820 - common.py - INFO - Directory 'artifacts' created successfully or already exists.\n",
      "2024-07-24 11:42:04,822 - common.py - INFO - Directory 'artifacts/callback_preparation/checkpoint_dir' created successfully or already exists.\n",
      "2024-07-24 11:42:04,822 - common.py - INFO - Directory 'artifacts/callback_preparation/tensorboard_log_dir' created successfully or already exists.\n"
     ]
    }
   ],
   "source": [
    "try:\n",
    "    config = ConfigManager()\n",
    "    callback_preparation_config = config.read_callback_prep_config()\n",
    "    callback_preparation = CallbackPreparation(config = callback_preparation_config)\n",
    "    callback_preparation.prepare_callbacks()\n",
    "except Exception as e:\n",
    "    raise e"
   ]
  }
 ],
 "metadata": {
  "kernelspec": {
   "display_name": "env",
   "language": "python",
   "name": "python3"
  },
  "language_info": {
   "codemirror_mode": {
    "name": "ipython",
    "version": 3
   },
   "file_extension": ".py",
   "mimetype": "text/x-python",
   "name": "python",
   "nbconvert_exporter": "python",
   "pygments_lexer": "ipython3",
   "version": "3.8.10"
  }
 },
 "nbformat": 4,
 "nbformat_minor": 2
}
