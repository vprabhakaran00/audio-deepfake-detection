{
 "cells": [
  {
   "cell_type": "code",
   "execution_count": 1,
   "metadata": {},
   "outputs": [],
   "source": [
    "import os"
   ]
  },
  {
   "cell_type": "code",
   "execution_count": 2,
   "metadata": {},
   "outputs": [
    {
     "data": {
      "text/plain": [
       "'d:\\\\Projects\\\\DeepFake Voice Recognition\\\\audio-deepfake-detection\\\\research'"
      ]
     },
     "execution_count": 2,
     "metadata": {},
     "output_type": "execute_result"
    }
   ],
   "source": [
    "%pwd"
   ]
  },
  {
   "cell_type": "code",
   "execution_count": 3,
   "metadata": {},
   "outputs": [],
   "source": [
    "os.chdir(\"../\")"
   ]
  },
  {
   "cell_type": "code",
   "execution_count": 4,
   "metadata": {},
   "outputs": [
    {
     "data": {
      "text/plain": [
       "'d:\\\\Projects\\\\DeepFake Voice Recognition\\\\audio-deepfake-detection'"
      ]
     },
     "execution_count": 4,
     "metadata": {},
     "output_type": "execute_result"
    }
   ],
   "source": [
    "%pwd"
   ]
  },
  {
   "cell_type": "code",
   "execution_count": 5,
   "metadata": {},
   "outputs": [],
   "source": [
    "# from tensorflow.keras.applications import ResNet50V2\n",
    "# from tensorflow.keras.layers import Flatten, Dense, Dropout\n",
    "# from tensorflow.keras.models import Sequential\n",
    "# from tensorflow.keras.optimizers import Adam\n",
    "# import numpy as np\n",
    "\n",
    "# X_train_path = 'artifacts/data_transformation/X_train.npy'\n",
    "# X_test_path = 'artifacts/data_transformation/X_test.npy'\n",
    "# y_train_path = 'artifacts/data_transformation/y_train.npy'\n",
    "# y_test_path = 'artifacts/data_transformation/y_test.npy'\n",
    "\n",
    "# X_train = np.load(X_train_path)\n",
    "# X_test = np.load(X_test_path)\n",
    "# y_train = np.load(y_train_path)\n",
    "# y_test = np.load(y_test_path)\n",
    "\n",
    "# base_model = ResNet50V2(include_top=False, weights='imagenet', input_shape=(224, 224, 3))\n",
    "# for layer in base_model.layers:\n",
    "#     layer.trainable = False\n",
    "    \n",
    "# upd_model = Sequential([\n",
    "#                 base_model,\n",
    "#                 Flatten(),\n",
    "#                 Dropout(0.5),\n",
    "#                 Dense(1, activation = 'sigmoid')\n",
    "#             ])\n",
    "# upd_model.compile(optimizer = Adam(learning_rate = 0.001), loss = 'binary_crossentropy', metrics = ['accuracy'])\n",
    "# upd_model.summary()"
   ]
  },
  {
   "cell_type": "code",
   "execution_count": 6,
   "metadata": {},
   "outputs": [],
   "source": [
    "# from skimage.transform import resize\n",
    "# def resize_images(images):\n",
    "#     resized_images = []\n",
    "#     for image in images:\n",
    "#         # Resize each image to the desired input size (224, 224)\n",
    "#         resized_image = resize(image, (224, 224), anti_aliasing=True)\n",
    "#         resized_images.append(resized_image)\n",
    "#     return np.array(resized_images)\n",
    "\n",
    "# # Resize the images in X_train and X_test\n",
    "# X_train_resized = resize_images(X_train)\n",
    "# X_test_resized = resize_images(X_test)\n",
    "\n",
    "# # Ensure that the images have 3 channels (RGB)\n",
    "# X_train_resized = np.repeat(X_train_resized[..., np.newaxis], 3, -1)\n",
    "# X_test_resized = np.repeat(X_test_resized[..., np.newaxis], 3, -1)"
   ]
  },
  {
   "cell_type": "code",
   "execution_count": 7,
   "metadata": {},
   "outputs": [],
   "source": [
    "# upd_model.fit(X_train_resized, y_train, epochs = 100, batch_size = 32, validation_data = [X_test_resized, y_test])"
   ]
  },
  {
   "cell_type": "code",
   "execution_count": 8,
   "metadata": {},
   "outputs": [],
   "source": [
    "# X_train_resized_normalized = (X_train_resized - np.min(X_train_resized)) / (np.max(X_train_resized) - np.min(X_train_resized))\n",
    "# X_train_resized_normalized[0].shape"
   ]
  },
  {
   "cell_type": "code",
   "execution_count": 9,
   "metadata": {},
   "outputs": [],
   "source": [
    "# import librosa\n",
    "# import matplotlib.pyplot as plt\n",
    "# librosa.display.specshow(X_train_resized_normalized[0], sr = 16000, x_axis = 'time', y_axis = 'log')\n",
    "# plt.colorbar(format = '%+2.0f dB')\n",
    "# plt.title(\"Real Audio Spectogram\")\n",
    "# plt.show()"
   ]
  },
  {
   "cell_type": "code",
   "execution_count": 10,
   "metadata": {},
   "outputs": [],
   "source": [
    "#X_train_resized[0].shape"
   ]
  },
  {
   "cell_type": "code",
   "execution_count": 11,
   "metadata": {},
   "outputs": [],
   "source": [
    "# from tensorflow.keras.preprocessing.image import ImageDataGenerator\n",
    "\n",
    "# # Create an instance of ImageDataGenerator with desired augmentation parameters\n",
    "# datagen = ImageDataGenerator(\n",
    "#     rotation_range=10,        # Rotate images by up to 10 degrees\n",
    "#     width_shift_range=0.1,    # Shift images horizontally by up to 10% of the width\n",
    "#     height_shift_range=0.1,   # Shift images vertically by up to 10% of the height\n",
    "#     shear_range=0.1,          # Shear images by up to 10%\n",
    "#     zoom_range=0.1,           # Zoom images by up to 10%\n",
    "#     horizontal_flip=True,     # Flip images horizontally\n",
    "#     vertical_flip=False,      # Do not flip images vertically\n",
    "#     rescale=1./255            # Normalize pixel values to [0, 1]\n",
    "# )\n",
    "\n",
    "# # Create a generator to apply the augmentation to your data\n",
    "# augmented_data_generator = datagen.flow(X_train_resized, y_train, batch_size=32)\n",
    "\n",
    "# # Use the augmented_data_generator in model.fit() instead of passing X_train and y_train directly\n",
    "# upd_model.fit(augmented_data_generator, epochs=100, validation_data=(X_test_resized, y_test))"
   ]
  },
  {
   "cell_type": "code",
   "execution_count": 12,
   "metadata": {},
   "outputs": [],
   "source": [
    "# batch_size = 32\n",
    "# num_samples = X_train.shape[0]\n",
    "\n",
    "# # Define the augmentation parameters\n",
    "# datagen = ImageDataGenerator(\n",
    "#     rotation_range=10,\n",
    "#     width_shift_range=0.1,\n",
    "#     height_shift_range=0.1,\n",
    "#     shear_range=0.1,\n",
    "#     zoom_range=0.1,\n",
    "#     horizontal_flip=True,\n",
    "#     vertical_flip=True,\n",
    "#     rescale=1./255  # Normalize pixel values to [0, 1]\n",
    "# )\n",
    "\n",
    "# # Initialize an empty list to store augmented images\n",
    "# augmented_images = []\n",
    "\n",
    "# # Generate augmented images for each image in X_train\n",
    "# for image in X_train_resized:\n",
    "#     # Apply augmentation transformation to the image\n",
    "#     augmented_image = datagen.apply_transform(image, datagen.get_random_transform(image.shape))\n",
    "#     # Append the augmented image to the list\n",
    "#     augmented_images.append(augmented_image)\n",
    "\n",
    "# # Convert the list of augmented images to a numpy array\n",
    "# augmented_images_array = np.array(augmented_images)"
   ]
  },
  {
   "cell_type": "code",
   "execution_count": 13,
   "metadata": {},
   "outputs": [],
   "source": [
    "# augmented_images_array.shape"
   ]
  },
  {
   "cell_type": "code",
   "execution_count": 14,
   "metadata": {},
   "outputs": [],
   "source": [
    "# X_train_resized.shape"
   ]
  },
  {
   "cell_type": "code",
   "execution_count": null,
   "metadata": {},
   "outputs": [],
   "source": []
  },
  {
   "cell_type": "code",
   "execution_count": 15,
   "metadata": {},
   "outputs": [],
   "source": [
    "# from tensorflow.keras.applications import MobileNetV3Large\n",
    "# from tensorflow.keras.layers import Flatten, Dense, Dropout\n",
    "# from tensorflow.keras.models import Sequential\n",
    "# from tensorflow.keras.regularizers import l2\n",
    "# from tensorflow.keras.optimizers import Adam\n",
    "# from tensorflow.keras.callbacks import EarlyStopping\n",
    "# from tensorflow.keras.metrics import AUC\n",
    "# import numpy as np\n",
    "\n",
    "# X_train_path = 'artifacts/data_transformation/X_train.npy'\n",
    "# X_test_path = 'artifacts/data_transformation/X_test.npy'\n",
    "# y_train_path = 'artifacts/data_transformation/y_train.npy'\n",
    "# y_test_path = 'artifacts/data_transformation/y_test.npy'\n",
    "\n",
    "# X_train = np.load(X_train_path)\n",
    "# X_test = np.load(X_test_path)\n",
    "# y_train = np.load(y_train_path)\n",
    "# y_test = np.load(y_test_path)\n",
    "\n",
    "# base_model = MobileNetV3Large(include_top=False, weights='imagenet', input_shape=(224, 224, 3))\n",
    "# for layer in base_model.layers:\n",
    "#     layer.trainable = False\n",
    "    \n",
    "# upd_model = Sequential([\n",
    "#                 base_model,\n",
    "#                 Flatten(),\n",
    "#                 Dropout(0.5),\n",
    "#                 Dense(32, activation='relu'),\n",
    "#                 Dense(1, activation = 'sigmoid')\n",
    "#             ])\n",
    "# upd_model.compile(optimizer = Adam(learning_rate = 0.001), loss = 'binary_crossentropy', metrics = ['accuracy', AUC(name='auc')])\n",
    "# upd_model.summary()"
   ]
  },
  {
   "cell_type": "code",
   "execution_count": 16,
   "metadata": {},
   "outputs": [],
   "source": [
    "# early_stopping = EarlyStopping(monitor='val_auc', patience=3, restore_best_weights=True)\n",
    "# upd_model.fit(X_train, y_train, epochs = 100, batch_size = 32, validation_data = [X_test, y_test], callbacks=[early_stopping])"
   ]
  },
  {
   "cell_type": "code",
   "execution_count": 17,
   "metadata": {},
   "outputs": [],
   "source": [
    "#upd_model.save('best_model5.keras')"
   ]
  },
  {
   "cell_type": "code",
   "execution_count": null,
   "metadata": {},
   "outputs": [],
   "source": []
  },
  {
   "cell_type": "code",
   "execution_count": 18,
   "metadata": {},
   "outputs": [],
   "source": [
    "from dataclasses import dataclass\n",
    "from pathlib import Path\n",
    "\n",
    "@dataclass(frozen=True)\n",
    "class ModelPreparationConfig:\n",
    "    root_dir: Path\n",
    "    base_model_path: Path\n",
    "    updated_model_path: Path"
   ]
  },
  {
   "cell_type": "code",
   "execution_count": 19,
   "metadata": {},
   "outputs": [],
   "source": [
    "from audioClassifier.constants import *\n",
    "from audioClassifier.utils.common import open_yaml_file, create_directories"
   ]
  },
  {
   "cell_type": "code",
   "execution_count": 20,
   "metadata": {},
   "outputs": [],
   "source": [
    "class ConfigManager:\n",
    "    def __init__(self, config_file = CONFIG_PATH, params_file = PARAMS_PATH):\n",
    "        self.config = open_yaml_file(config_file)\n",
    "        self.params = open_yaml_file(params_file)\n",
    "        \n",
    "        create_directories([self.config.artifacts_root])\n",
    "        \n",
    "    def read_model_prep_config(self) -> ModelPreparationConfig:\n",
    "        model_prep = self.config.model_preparation\n",
    "        \n",
    "        create_directories([self.config.model_preparation.root_dir])\n",
    "        \n",
    "        model_prep_config = ModelPreparationConfig(\n",
    "            root_dir = Path(model_prep.root_dir),\n",
    "            base_model_path = Path(model_prep.base_model_path),\n",
    "            updated_model_path = Path(model_prep.updated_model_path) \n",
    "        )\n",
    "        \n",
    "        return model_prep_config"
   ]
  },
  {
   "cell_type": "code",
   "execution_count": 21,
   "metadata": {},
   "outputs": [
    {
     "name": "stderr",
     "output_type": "stream",
     "text": [
      "2024-07-24 16:36:11,899 - module_wrapper.py - WARNING - From d:\\Projects\\DeepFake Voice Recognition\\audio-deepfake-detection\\venv\\lib\\site-packages\\keras\\src\\losses.py:2976: The name tf.losses.sparse_softmax_cross_entropy is deprecated. Please use tf.compat.v1.losses.sparse_softmax_cross_entropy instead.\n",
      "\n"
     ]
    }
   ],
   "source": [
    "from tensorflow.keras.applications import MobileNetV3Large\n",
    "from tensorflow.keras.layers import Flatten, Dense, Dropout\n",
    "from tensorflow.keras.models import Sequential\n",
    "from tensorflow.keras.regularizers import l2\n",
    "from audioClassifier import logger"
   ]
  },
  {
   "cell_type": "code",
   "execution_count": 22,
   "metadata": {},
   "outputs": [],
   "source": [
    "class ModelPreparation:\n",
    "    def __init__(self, config: ModelPreparationConfig):\n",
    "        self.config = config\n",
    "        \n",
    "    def _build_base_model(self):\n",
    "        try:\n",
    "            base_model = MobileNetV3Large(include_top=False, weights='imagenet', input_shape=(224, 224, 3))\n",
    "            for layer in base_model.layers:\n",
    "                layer.trainable = False\n",
    "            base_model.save(str(self.config.base_model_path))\n",
    "            logger.info(f\"MobileNetV3Large Base Model built successfully and saved to {self.config.base_model_path}.\")\n",
    "            return base_model\n",
    "        except Exception as e:\n",
    "            logger.error(f\"Error building and saving base model: {e}\")\n",
    "            raise e\n",
    "    \n",
    "    def build_full_model(self):\n",
    "        try:\n",
    "            upd_model = Sequential([\n",
    "                self._build_base_model(),\n",
    "                Flatten(),\n",
    "                Dropout(0.5),\n",
    "                Dense(32, activation='relu', kernel_regularizer=l2(0.01)),\n",
    "                Dense(1, activation = 'sigmoid')\n",
    "            ])\n",
    "            upd_model.summary()\n",
    "            upd_model.save(str(self.config.updated_model_path))\n",
    "            logger.info(f\"Updated Model saved to {self.config.updated_model_path}.\")\n",
    "        except Exception as e:\n",
    "            logger.error(f\"Error building updated model: {e}\")\n",
    "            raise e"
   ]
  },
  {
   "cell_type": "code",
   "execution_count": 23,
   "metadata": {},
   "outputs": [
    {
     "name": "stderr",
     "output_type": "stream",
     "text": [
      "2024-07-24 16:36:12,506 - common.py - INFO - YAML file 'config\\config.yaml' was loaded successfully.\n",
      "2024-07-24 16:36:12,508 - common.py - INFO - YAML file 'params.yaml' was loaded successfully.\n",
      "2024-07-24 16:36:12,509 - common.py - INFO - Directory 'artifacts' created successfully or already exists.\n",
      "2024-07-24 16:36:12,509 - common.py - INFO - Directory 'artifacts/model_preparation' created successfully or already exists.\n",
      "2024-07-24 16:36:12,679 - module_wrapper.py - WARNING - From d:\\Projects\\DeepFake Voice Recognition\\audio-deepfake-detection\\venv\\lib\\site-packages\\keras\\src\\backend.py:1398: The name tf.executing_eagerly_outside_functions is deprecated. Please use tf.compat.v1.executing_eagerly_outside_functions instead.\n",
      "\n",
      "2024-07-24 16:36:12,763 - module_wrapper.py - WARNING - From d:\\Projects\\DeepFake Voice Recognition\\audio-deepfake-detection\\venv\\lib\\site-packages\\keras\\src\\layers\\normalization\\batch_normalization.py:979: The name tf.nn.fused_batch_norm is deprecated. Please use tf.compat.v1.nn.fused_batch_norm instead.\n",
      "\n",
      "2024-07-24 16:36:14,418 - 3207657074.py - INFO - MobileNetV3Large Base Model built successfully and saved to artifacts/model_preparation/base_model.keras.\n"
     ]
    },
    {
     "name": "stdout",
     "output_type": "stream",
     "text": [
      "Model: \"sequential\"\n",
      "_________________________________________________________________\n",
      " Layer (type)                Output Shape              Param #   \n",
      "=================================================================\n",
      " MobilenetV3large (Function  (None, 7, 7, 960)         2996352   \n",
      " al)                                                             \n",
      "                                                                 \n",
      " flatten (Flatten)           (None, 47040)             0         \n",
      "                                                                 \n",
      " dropout (Dropout)           (None, 47040)             0         \n",
      "                                                                 \n",
      " dense (Dense)               (None, 32)                1505312   \n",
      "                                                                 \n",
      " dense_1 (Dense)             (None, 1)                 33        \n",
      "                                                                 \n",
      "=================================================================\n",
      "Total params: 4501697 (17.17 MB)\n",
      "Trainable params: 1505345 (5.74 MB)\n",
      "Non-trainable params: 2996352 (11.43 MB)\n",
      "_________________________________________________________________\n"
     ]
    },
    {
     "name": "stderr",
     "output_type": "stream",
     "text": [
      "2024-07-24 16:36:15,415 - 3207657074.py - INFO - Updated Model saved to artifacts/model_preparation/updated_model.keras.\n"
     ]
    }
   ],
   "source": [
    "try:\n",
    "    config = ConfigManager()\n",
    "    model_preparation_config = config.read_model_prep_config()\n",
    "    model_preparation = ModelPreparation(config = model_preparation_config)\n",
    "    model_preparation.build_full_model()\n",
    "except Exception as e:\n",
    "    raise e"
   ]
  }
 ],
 "metadata": {
  "kernelspec": {
   "display_name": "env",
   "language": "python",
   "name": "python3"
  },
  "language_info": {
   "codemirror_mode": {
    "name": "ipython",
    "version": 3
   },
   "file_extension": ".py",
   "mimetype": "text/x-python",
   "name": "python",
   "nbconvert_exporter": "python",
   "pygments_lexer": "ipython3",
   "version": "3.9.13"
  }
 },
 "nbformat": 4,
 "nbformat_minor": 2
}
