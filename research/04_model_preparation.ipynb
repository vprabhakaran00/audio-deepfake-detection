{
 "cells": [
  {
   "cell_type": "code",
   "execution_count": 1,
   "metadata": {},
   "outputs": [],
   "source": [
    "import os"
   ]
  },
  {
   "cell_type": "code",
   "execution_count": 2,
   "metadata": {},
   "outputs": [
    {
     "data": {
      "text/plain": [
       "'d:\\\\Projects\\\\DeepFake Voice Recognition\\\\audio-deepfake-detection\\\\research'"
      ]
     },
     "execution_count": 2,
     "metadata": {},
     "output_type": "execute_result"
    }
   ],
   "source": [
    "%pwd"
   ]
  },
  {
   "cell_type": "code",
   "execution_count": 3,
   "metadata": {},
   "outputs": [],
   "source": [
    "os.chdir(\"../\")"
   ]
  },
  {
   "cell_type": "code",
   "execution_count": 4,
   "metadata": {},
   "outputs": [
    {
     "data": {
      "text/plain": [
       "'d:\\\\Projects\\\\DeepFake Voice Recognition\\\\audio-deepfake-detection'"
      ]
     },
     "execution_count": 4,
     "metadata": {},
     "output_type": "execute_result"
    }
   ],
   "source": [
    "%pwd"
   ]
  },
  {
   "cell_type": "code",
   "execution_count": 13,
   "metadata": {},
   "outputs": [
    {
     "name": "stdout",
     "output_type": "stream",
     "text": [
      "Model: \"sequential_1\"\n",
      "_________________________________________________________________\n",
      " Layer (type)                Output Shape              Param #   \n",
      "=================================================================\n",
      " resnet50v2 (Functional)     (None, 7, 7, 2048)        23564800  \n",
      "                                                                 \n",
      " flatten_1 (Flatten)         (None, 100352)            0         \n",
      "                                                                 \n",
      " dropout_1 (Dropout)         (None, 100352)            0         \n",
      "                                                                 \n",
      " dense_1 (Dense)             (None, 1)                 100353    \n",
      "                                                                 \n",
      "=================================================================\n",
      "Total params: 23665153 (90.28 MB)\n",
      "Trainable params: 100353 (392.00 KB)\n",
      "Non-trainable params: 23564800 (89.89 MB)\n",
      "_________________________________________________________________\n"
     ]
    }
   ],
   "source": [
    "# from tensorflow.keras.applications import ResNet50V2\n",
    "# from tensorflow.keras.layers import Flatten, Dense, Dropout\n",
    "# from tensorflow.keras.models import Sequential\n",
    "# from tensorflow.keras.optimizers import Adam\n",
    "# import numpy as np\n",
    "\n",
    "# X_train_path = 'artifacts/data_transformation/X_train.npy'\n",
    "# X_test_path = 'artifacts/data_transformation/X_test.npy'\n",
    "# y_train_path = 'artifacts/data_transformation/y_train.npy'\n",
    "# y_test_path = 'artifacts/data_transformation/y_test.npy'\n",
    "\n",
    "# X_train = np.load(X_train_path)\n",
    "# X_test = np.load(X_test_path)\n",
    "# y_train = np.load(y_train_path)\n",
    "# y_test = np.load(y_test_path)\n",
    "\n",
    "# base_model = ResNet50V2(include_top=False, weights='imagenet', input_shape=(224, 224, 3))\n",
    "# for layer in base_model.layers:\n",
    "#     layer.trainable = False\n",
    "    \n",
    "# upd_model = Sequential([\n",
    "#                 base_model,\n",
    "#                 Flatten(),\n",
    "#                 Dropout(0.5),\n",
    "#                 Dense(1, activation = 'sigmoid')\n",
    "#             ])\n",
    "# upd_model.compile(optimizer = Adam(learning_rate = 0.001), loss = 'binary_crossentropy', metrics = ['accuracy'])\n",
    "# upd_model.summary()"
   ]
  },
  {
   "cell_type": "code",
   "execution_count": 6,
   "metadata": {},
   "outputs": [],
   "source": [
    "# from skimage.transform import resize\n",
    "# def resize_images(images):\n",
    "#     resized_images = []\n",
    "#     for image in images:\n",
    "#         # Resize each image to the desired input size (224, 224)\n",
    "#         resized_image = resize(image, (224, 224), anti_aliasing=True)\n",
    "#         resized_images.append(resized_image)\n",
    "#     return np.array(resized_images)\n",
    "\n",
    "# # Resize the images in X_train and X_test\n",
    "# X_train_resized = resize_images(X_train)\n",
    "# X_test_resized = resize_images(X_test)\n",
    "\n",
    "# # Ensure that the images have 3 channels (RGB)\n",
    "# X_train_resized = np.repeat(X_train_resized[..., np.newaxis], 3, -1)\n",
    "# X_test_resized = np.repeat(X_test_resized[..., np.newaxis], 3, -1)"
   ]
  },
  {
   "cell_type": "code",
   "execution_count": 11,
   "metadata": {},
   "outputs": [
    {
     "name": "stdout",
     "output_type": "stream",
     "text": [
      "Epoch 1/100\n",
      "2/2 [==============================] - 4s 2s/step - loss: 684.5739 - accuracy: 0.4902 - val_loss: 2098.9829 - val_accuracy: 0.8462\n",
      "Epoch 2/100\n",
      "2/2 [==============================] - 2s 847ms/step - loss: 1577.0966 - accuracy: 0.8824 - val_loss: 2795.4180 - val_accuracy: 0.8462\n",
      "Epoch 3/100\n",
      "2/2 [==============================] - 2s 885ms/step - loss: 2127.2600 - accuracy: 0.8824 - val_loss: 2933.6943 - val_accuracy: 0.8462\n",
      "Epoch 4/100\n",
      "2/2 [==============================] - 2s 837ms/step - loss: 2093.8464 - accuracy: 0.8824 - val_loss: 2620.6382 - val_accuracy: 0.8462\n",
      "Epoch 5/100\n",
      "2/2 [==============================] - 2s 851ms/step - loss: 1939.8253 - accuracy: 0.8824 - val_loss: 2058.7764 - val_accuracy: 0.8462\n",
      "Epoch 6/100\n",
      "2/2 [==============================] - 2s 870ms/step - loss: 1456.4208 - accuracy: 0.8824 - val_loss: 1317.6257 - val_accuracy: 0.8462\n",
      "Epoch 7/100\n",
      "2/2 [==============================] - 2s 842ms/step - loss: 801.6022 - accuracy: 0.8824 - val_loss: 438.1007 - val_accuracy: 0.8462\n",
      "Epoch 8/100\n",
      "2/2 [==============================] - 2s 849ms/step - loss: 315.8582 - accuracy: 0.6863 - val_loss: 958.7393 - val_accuracy: 0.1538\n",
      "Epoch 9/100\n",
      "2/2 [==============================] - 2s 836ms/step - loss: 530.5380 - accuracy: 0.4706 - val_loss: 410.3486 - val_accuracy: 0.8462\n",
      "Epoch 10/100\n",
      "2/2 [==============================] - 2s 905ms/step - loss: 351.8957 - accuracy: 0.8824 - val_loss: 733.2006 - val_accuracy: 0.8462\n",
      "Epoch 11/100\n",
      "2/2 [==============================] - 2s 862ms/step - loss: 564.6277 - accuracy: 0.8824 - val_loss: 761.4612 - val_accuracy: 0.8462\n",
      "Epoch 12/100\n",
      "2/2 [==============================] - 2s 842ms/step - loss: 524.0870 - accuracy: 0.8824 - val_loss: 552.2723 - val_accuracy: 0.8462\n",
      "Epoch 13/100\n",
      "2/2 [==============================] - 2s 847ms/step - loss: 388.8777 - accuracy: 0.8824 - val_loss: 139.2938 - val_accuracy: 0.9231\n",
      "Epoch 14/100\n",
      "2/2 [==============================] - 2s 843ms/step - loss: 189.0372 - accuracy: 0.6275 - val_loss: 118.6906 - val_accuracy: 0.7692\n",
      "Epoch 15/100\n",
      "2/2 [==============================] - 2s 847ms/step - loss: 198.5859 - accuracy: 0.7451 - val_loss: 267.2242 - val_accuracy: 0.8462\n",
      "Epoch 16/100\n",
      "2/2 [==============================] - 2s 844ms/step - loss: 231.4066 - accuracy: 0.8824 - val_loss: 221.5273 - val_accuracy: 0.8462\n",
      "Epoch 17/100\n",
      "2/2 [==============================] - 2s 844ms/step - loss: 131.7910 - accuracy: 0.9020 - val_loss: 111.2160 - val_accuracy: 0.8462\n",
      "Epoch 18/100\n",
      "2/2 [==============================] - 2s 842ms/step - loss: 170.3848 - accuracy: 0.7255 - val_loss: 113.6423 - val_accuracy: 0.8462\n",
      "Epoch 19/100\n",
      "2/2 [==============================] - 2s 923ms/step - loss: 114.9243 - accuracy: 0.8235 - val_loss: 170.6486 - val_accuracy: 0.9231\n",
      "Epoch 20/100\n",
      "2/2 [==============================] - 2s 842ms/step - loss: 219.6005 - accuracy: 0.8824 - val_loss: 128.9682 - val_accuracy: 0.9231\n",
      "Epoch 21/100\n",
      "2/2 [==============================] - 2s 850ms/step - loss: 54.7091 - accuracy: 0.8824 - val_loss: 192.5904 - val_accuracy: 0.5385\n",
      "Epoch 22/100\n",
      "2/2 [==============================] - 2s 839ms/step - loss: 118.6135 - accuracy: 0.6863 - val_loss: 166.8485 - val_accuracy: 0.9231\n",
      "Epoch 23/100\n",
      "2/2 [==============================] - 2s 832ms/step - loss: 169.1055 - accuracy: 0.8627 - val_loss: 250.5611 - val_accuracy: 0.8462\n",
      "Epoch 24/100\n",
      "2/2 [==============================] - 2s 839ms/step - loss: 229.9176 - accuracy: 0.8824 - val_loss: 166.4005 - val_accuracy: 0.9231\n",
      "Epoch 25/100\n",
      "2/2 [==============================] - 2s 843ms/step - loss: 96.3188 - accuracy: 0.8627 - val_loss: 216.3934 - val_accuracy: 0.5385\n",
      "Epoch 26/100\n",
      "2/2 [==============================] - 2s 861ms/step - loss: 165.8670 - accuracy: 0.7059 - val_loss: 184.6497 - val_accuracy: 0.9231\n",
      "Epoch 27/100\n",
      "2/2 [==============================] - 2s 846ms/step - loss: 137.8709 - accuracy: 0.9020 - val_loss: 232.2804 - val_accuracy: 0.8462\n",
      "Epoch 28/100\n",
      "2/2 [==============================] - 2s 851ms/step - loss: 145.4736 - accuracy: 0.9020 - val_loss: 118.4482 - val_accuracy: 0.9231\n",
      "Epoch 29/100\n",
      "2/2 [==============================] - 2s 847ms/step - loss: 61.0735 - accuracy: 0.8431 - val_loss: 142.2715 - val_accuracy: 0.6154\n",
      "Epoch 30/100\n",
      "2/2 [==============================] - 2s 843ms/step - loss: 151.1475 - accuracy: 0.7451 - val_loss: 136.7995 - val_accuracy: 0.9231\n",
      "Epoch 31/100\n",
      "2/2 [==============================] - 2s 842ms/step - loss: 115.7568 - accuracy: 0.8824 - val_loss: 190.0908 - val_accuracy: 0.9231\n",
      "Epoch 32/100\n",
      "2/2 [==============================] - 2s 838ms/step - loss: 89.7267 - accuracy: 0.8824 - val_loss: 102.2345 - val_accuracy: 0.9231\n",
      "Epoch 33/100\n",
      "2/2 [==============================] - 2s 840ms/step - loss: 53.5327 - accuracy: 0.8431 - val_loss: 90.0675 - val_accuracy: 0.8462\n",
      "Epoch 34/100\n",
      "2/2 [==============================] - 2s 838ms/step - loss: 97.1665 - accuracy: 0.8431 - val_loss: 214.0364 - val_accuracy: 0.8462\n",
      "Epoch 35/100\n",
      "2/2 [==============================] - 2s 839ms/step - loss: 175.9175 - accuracy: 0.8627 - val_loss: 281.5300 - val_accuracy: 0.8462\n",
      "Epoch 36/100\n",
      "2/2 [==============================] - 2s 837ms/step - loss: 147.9012 - accuracy: 0.9020 - val_loss: 146.9357 - val_accuracy: 0.9231\n",
      "Epoch 37/100\n",
      "2/2 [==============================] - 2s 840ms/step - loss: 81.6654 - accuracy: 0.8627 - val_loss: 92.6106 - val_accuracy: 0.9231\n",
      "Epoch 38/100\n",
      "2/2 [==============================] - 2s 846ms/step - loss: 75.6205 - accuracy: 0.9020 - val_loss: 105.6764 - val_accuracy: 0.9231\n",
      "Epoch 39/100\n",
      "2/2 [==============================] - 2s 837ms/step - loss: 120.6454 - accuracy: 0.8824 - val_loss: 148.7209 - val_accuracy: 0.9231\n",
      "Epoch 40/100\n",
      "2/2 [==============================] - 2s 855ms/step - loss: 85.1682 - accuracy: 0.9020 - val_loss: 116.9559 - val_accuracy: 0.9231\n",
      "Epoch 41/100\n",
      "2/2 [==============================] - 2s 850ms/step - loss: 45.0632 - accuracy: 0.8824 - val_loss: 127.6451 - val_accuracy: 0.9231\n",
      "Epoch 42/100\n",
      "2/2 [==============================] - 2s 851ms/step - loss: 107.1170 - accuracy: 0.9020 - val_loss: 106.4984 - val_accuracy: 0.9231\n",
      "Epoch 43/100\n",
      "2/2 [==============================] - 2s 855ms/step - loss: 45.0475 - accuracy: 0.9216 - val_loss: 125.8533 - val_accuracy: 0.6154\n",
      "Epoch 44/100\n",
      "2/2 [==============================] - 2s 853ms/step - loss: 124.9372 - accuracy: 0.7059 - val_loss: 270.9366 - val_accuracy: 0.8462\n",
      "Epoch 45/100\n",
      "2/2 [==============================] - 2s 846ms/step - loss: 205.2659 - accuracy: 0.9020 - val_loss: 395.4137 - val_accuracy: 0.8462\n",
      "Epoch 46/100\n",
      "2/2 [==============================] - 2s 842ms/step - loss: 255.7396 - accuracy: 0.8824 - val_loss: 174.5705 - val_accuracy: 0.8462\n",
      "Epoch 47/100\n",
      "2/2 [==============================] - 2s 839ms/step - loss: 99.9120 - accuracy: 0.9020 - val_loss: 266.8498 - val_accuracy: 0.4615\n",
      "Epoch 48/100\n",
      "2/2 [==============================] - 2s 842ms/step - loss: 355.4889 - accuracy: 0.5686 - val_loss: 235.4421 - val_accuracy: 0.8462\n",
      "Epoch 49/100\n",
      "2/2 [==============================] - 2s 850ms/step - loss: 204.1698 - accuracy: 0.8824 - val_loss: 324.8734 - val_accuracy: 0.8462\n",
      "Epoch 50/100\n",
      "2/2 [==============================] - 2s 855ms/step - loss: 239.8426 - accuracy: 0.8824 - val_loss: 145.3997 - val_accuracy: 0.9231\n",
      "Epoch 51/100\n",
      "2/2 [==============================] - 2s 848ms/step - loss: 75.4707 - accuracy: 0.8824 - val_loss: 52.2506 - val_accuracy: 0.8462\n",
      "Epoch 52/100\n",
      "2/2 [==============================] - 2s 841ms/step - loss: 90.6561 - accuracy: 0.8039 - val_loss: 191.9662 - val_accuracy: 0.9231\n",
      "Epoch 53/100\n",
      "2/2 [==============================] - 2s 842ms/step - loss: 120.6112 - accuracy: 0.8824 - val_loss: 201.8078 - val_accuracy: 0.8462\n",
      "Epoch 54/100\n",
      "2/2 [==============================] - 2s 841ms/step - loss: 109.9659 - accuracy: 0.9216 - val_loss: 95.7602 - val_accuracy: 0.9231\n",
      "Epoch 55/100\n",
      "2/2 [==============================] - 2s 860ms/step - loss: 14.2836 - accuracy: 0.9804 - val_loss: 47.8224 - val_accuracy: 0.8462\n",
      "Epoch 56/100\n",
      "2/2 [==============================] - 2s 852ms/step - loss: 68.3182 - accuracy: 0.8824 - val_loss: 46.8562 - val_accuracy: 0.8462\n",
      "Epoch 57/100\n",
      "2/2 [==============================] - 2s 844ms/step - loss: 103.0306 - accuracy: 0.8627 - val_loss: 114.7245 - val_accuracy: 0.9231\n",
      "Epoch 58/100\n",
      "2/2 [==============================] - 2s 879ms/step - loss: 68.6339 - accuracy: 0.9020 - val_loss: 164.9854 - val_accuracy: 0.9231\n",
      "Epoch 59/100\n",
      "2/2 [==============================] - 2s 866ms/step - loss: 103.3695 - accuracy: 0.9020 - val_loss: 72.6140 - val_accuracy: 0.9231\n",
      "Epoch 60/100\n",
      "2/2 [==============================] - 2s 951ms/step - loss: 56.4410 - accuracy: 0.8431 - val_loss: 23.6305 - val_accuracy: 0.9231\n",
      "Epoch 61/100\n",
      "2/2 [==============================] - 2s 922ms/step - loss: 11.1839 - accuracy: 0.9412 - val_loss: 83.9826 - val_accuracy: 0.9231\n",
      "Epoch 62/100\n",
      "2/2 [==============================] - 2s 873ms/step - loss: 46.4164 - accuracy: 0.9216 - val_loss: 97.8211 - val_accuracy: 0.9231\n",
      "Epoch 63/100\n",
      "2/2 [==============================] - 2s 873ms/step - loss: 90.4204 - accuracy: 0.9020 - val_loss: 24.1380 - val_accuracy: 0.9231\n",
      "Epoch 64/100\n",
      "2/2 [==============================] - 2s 874ms/step - loss: 134.5118 - accuracy: 0.8039 - val_loss: 45.6239 - val_accuracy: 0.9231\n",
      "Epoch 65/100\n",
      "2/2 [==============================] - 2s 879ms/step - loss: 77.2054 - accuracy: 0.9216 - val_loss: 101.7182 - val_accuracy: 0.9231\n",
      "Epoch 66/100\n",
      "2/2 [==============================] - 2s 869ms/step - loss: 58.7596 - accuracy: 0.9216 - val_loss: 54.3798 - val_accuracy: 0.9231\n",
      "Epoch 67/100\n",
      "2/2 [==============================] - 2s 878ms/step - loss: 88.8461 - accuracy: 0.8627 - val_loss: 14.1806 - val_accuracy: 0.9231\n",
      "Epoch 68/100\n",
      "2/2 [==============================] - 2s 863ms/step - loss: 125.8391 - accuracy: 0.8235 - val_loss: 129.9758 - val_accuracy: 0.8462\n",
      "Epoch 69/100\n",
      "2/2 [==============================] - 2s 874ms/step - loss: 105.1615 - accuracy: 0.8627 - val_loss: 83.0132 - val_accuracy: 0.9231\n",
      "Epoch 70/100\n",
      "2/2 [==============================] - 2s 866ms/step - loss: 23.3692 - accuracy: 0.9216 - val_loss: 60.7836 - val_accuracy: 0.6923\n",
      "Epoch 71/100\n",
      "2/2 [==============================] - 2s 875ms/step - loss: 100.3031 - accuracy: 0.7647 - val_loss: 175.3273 - val_accuracy: 0.8462\n",
      "Epoch 72/100\n",
      "2/2 [==============================] - 2s 846ms/step - loss: 120.1890 - accuracy: 0.8824 - val_loss: 376.6191 - val_accuracy: 0.8462\n",
      "Epoch 73/100\n",
      "2/2 [==============================] - 2s 853ms/step - loss: 226.5702 - accuracy: 0.8824 - val_loss: 254.1903 - val_accuracy: 0.8462\n",
      "Epoch 74/100\n",
      "2/2 [==============================] - 2s 852ms/step - loss: 123.4942 - accuracy: 0.9020 - val_loss: 37.8290 - val_accuracy: 0.8462\n",
      "Epoch 75/100\n",
      "2/2 [==============================] - 2s 865ms/step - loss: 110.5570 - accuracy: 0.7647 - val_loss: 107.1300 - val_accuracy: 0.9231\n",
      "Epoch 76/100\n",
      "2/2 [==============================] - 2s 880ms/step - loss: 43.9373 - accuracy: 0.9216 - val_loss: 137.4708 - val_accuracy: 0.9231\n",
      "Epoch 77/100\n",
      "2/2 [==============================] - 2s 892ms/step - loss: 33.5925 - accuracy: 0.9412 - val_loss: 46.2256 - val_accuracy: 0.9231\n",
      "Epoch 78/100\n",
      "2/2 [==============================] - 2s 934ms/step - loss: 20.1720 - accuracy: 0.8824 - val_loss: 45.2370 - val_accuracy: 0.9231\n",
      "Epoch 79/100\n",
      "2/2 [==============================] - 2s 867ms/step - loss: 60.1926 - accuracy: 0.8627 - val_loss: 257.5899 - val_accuracy: 0.8462\n",
      "Epoch 80/100\n",
      "2/2 [==============================] - 2s 907ms/step - loss: 144.8832 - accuracy: 0.8824 - val_loss: 194.1742 - val_accuracy: 0.9231\n",
      "Epoch 81/100\n",
      "2/2 [==============================] - 2s 893ms/step - loss: 110.0118 - accuracy: 0.9020 - val_loss: 92.6501 - val_accuracy: 0.6154\n",
      "Epoch 82/100\n",
      "2/2 [==============================] - 2s 852ms/step - loss: 145.7334 - accuracy: 0.7255 - val_loss: 136.9987 - val_accuracy: 0.9231\n",
      "Epoch 83/100\n",
      "2/2 [==============================] - 2s 840ms/step - loss: 70.6051 - accuracy: 0.9412 - val_loss: 167.3979 - val_accuracy: 0.9231\n",
      "Epoch 84/100\n",
      "2/2 [==============================] - 2s 843ms/step - loss: 72.0792 - accuracy: 0.9216 - val_loss: 66.0354 - val_accuracy: 0.9231\n",
      "Epoch 85/100\n",
      "2/2 [==============================] - 2s 852ms/step - loss: 59.5869 - accuracy: 0.8627 - val_loss: 129.6237 - val_accuracy: 0.9231\n",
      "Epoch 86/100\n",
      "2/2 [==============================] - 2s 840ms/step - loss: 72.9441 - accuracy: 0.8627 - val_loss: 141.2291 - val_accuracy: 0.9231\n",
      "Epoch 87/100\n",
      "2/2 [==============================] - 2s 845ms/step - loss: 82.5549 - accuracy: 0.9412 - val_loss: 99.2576 - val_accuracy: 0.9231\n",
      "Epoch 88/100\n",
      "2/2 [==============================] - 2s 834ms/step - loss: 57.0877 - accuracy: 0.9020 - val_loss: 70.3864 - val_accuracy: 0.9231\n",
      "Epoch 89/100\n",
      "2/2 [==============================] - 2s 841ms/step - loss: 59.1379 - accuracy: 0.9412 - val_loss: 51.0628 - val_accuracy: 0.9231\n",
      "Epoch 90/100\n",
      "2/2 [==============================] - 2s 837ms/step - loss: 39.9666 - accuracy: 0.8824 - val_loss: 65.7263 - val_accuracy: 0.9231\n",
      "Epoch 91/100\n",
      "2/2 [==============================] - 2s 849ms/step - loss: 53.7647 - accuracy: 0.9020 - val_loss: 116.2904 - val_accuracy: 0.9231\n",
      "Epoch 92/100\n",
      "2/2 [==============================] - 2s 840ms/step - loss: 36.9688 - accuracy: 0.9216 - val_loss: 98.1830 - val_accuracy: 0.9231\n",
      "Epoch 93/100\n",
      "2/2 [==============================] - 2s 843ms/step - loss: 41.4881 - accuracy: 0.9216 - val_loss: 9.6350 - val_accuracy: 0.9231\n",
      "Epoch 94/100\n",
      "2/2 [==============================] - 2s 851ms/step - loss: 105.1710 - accuracy: 0.8824 - val_loss: 93.9212 - val_accuracy: 0.9231\n",
      "Epoch 95/100\n",
      "2/2 [==============================] - 2s 840ms/step - loss: 69.0319 - accuracy: 0.9020 - val_loss: 113.1007 - val_accuracy: 0.9231\n",
      "Epoch 96/100\n",
      "2/2 [==============================] - 2s 845ms/step - loss: 62.7712 - accuracy: 0.9216 - val_loss: 15.5661 - val_accuracy: 0.9231\n",
      "Epoch 97/100\n",
      "2/2 [==============================] - 2s 847ms/step - loss: 54.4819 - accuracy: 0.8235 - val_loss: 163.6552 - val_accuracy: 0.9231\n",
      "Epoch 98/100\n",
      "2/2 [==============================] - 2s 833ms/step - loss: 151.6372 - accuracy: 0.9020 - val_loss: 224.3679 - val_accuracy: 0.8462\n",
      "Epoch 99/100\n",
      "2/2 [==============================] - 2s 835ms/step - loss: 105.1065 - accuracy: 0.9216 - val_loss: 80.9370 - val_accuracy: 0.9231\n",
      "Epoch 100/100\n",
      "2/2 [==============================] - 2s 839ms/step - loss: 73.3741 - accuracy: 0.8627 - val_loss: 25.3987 - val_accuracy: 0.8462\n"
     ]
    },
    {
     "data": {
      "text/plain": [
       "<keras.src.callbacks.History at 0x1b980010880>"
      ]
     },
     "execution_count": 11,
     "metadata": {},
     "output_type": "execute_result"
    }
   ],
   "source": [
    "# upd_model.fit(X_train_resized, y_train, epochs = 100, batch_size = 32, validation_data = [X_test_resized, y_test])"
   ]
  },
  {
   "cell_type": "code",
   "execution_count": 7,
   "metadata": {},
   "outputs": [
    {
     "data": {
      "text/plain": [
       "(224, 224, 3)"
      ]
     },
     "execution_count": 7,
     "metadata": {},
     "output_type": "execute_result"
    }
   ],
   "source": [
    "# X_train_resized_normalized = (X_train_resized - np.min(X_train_resized)) / (np.max(X_train_resized) - np.min(X_train_resized))\n",
    "# X_train_resized_normalized[0].shape"
   ]
  },
  {
   "cell_type": "code",
   "execution_count": 8,
   "metadata": {},
   "outputs": [
    {
     "data": {
      "image/png": "[encoded data removed]",
      "text/plain": [
       "<Figure size 640x480 with 2 Axes>"
      ]
     },
     "metadata": {},
     "output_type": "display_data"
    }
   ],
   "source": [
    "# import librosa\n",
    "# import matplotlib.pyplot as plt\n",
    "# librosa.display.specshow(X_train_resized_normalized[0], sr = 16000, x_axis = 'time', y_axis = 'log')\n",
    "# plt.colorbar(format = '%+2.0f dB')\n",
    "# plt.title(\"Real Audio Spectogram\")\n",
    "# plt.show()"
   ]
  },
  {
   "cell_type": "code",
   "execution_count": 12,
   "metadata": {},
   "outputs": [
    {
     "data": {
      "text/plain": [
       "(224, 224, 3)"
      ]
     },
     "execution_count": 12,
     "metadata": {},
     "output_type": "execute_result"
    }
   ],
   "source": [
    "X_train_resized[0].shape"
   ]
  },
  {
   "cell_type": "code",
   "execution_count": 14,
   "metadata": {},
   "outputs": [
    {
     "name": "stdout",
     "output_type": "stream",
     "text": [
      "Epoch 1/100\n",
      "2/2 [==============================] - 4s 2s/step - loss: 0.9779 - accuracy: 0.8039 - val_loss: 417.5010 - val_accuracy: 0.8462\n",
      "Epoch 2/100\n",
      "2/2 [==============================] - 2s 1s/step - loss: 1.2020 - accuracy: 0.8824 - val_loss: 520.5074 - val_accuracy: 0.8462\n",
      "Epoch 3/100\n",
      "2/2 [==============================] - 2s 1s/step - loss: 0.7356 - accuracy: 0.8824 - val_loss: 504.2362 - val_accuracy: 0.8462\n",
      "Epoch 4/100\n",
      "2/2 [==============================] - 2s 836ms/step - loss: 0.4465 - accuracy: 0.8235 - val_loss: 553.7838 - val_accuracy: 0.8462\n",
      "Epoch 5/100\n",
      "2/2 [==============================] - 2s 1s/step - loss: 0.5444 - accuracy: 0.6863 - val_loss: 751.8382 - val_accuracy: 0.8462\n",
      "Epoch 6/100\n",
      "2/2 [==============================] - 2s 839ms/step - loss: 0.3647 - accuracy: 0.8824 - val_loss: 955.8732 - val_accuracy: 0.8462\n",
      "Epoch 7/100\n",
      "2/2 [==============================] - 2s 842ms/step - loss: 0.5453 - accuracy: 0.9020 - val_loss: 1092.8928 - val_accuracy: 0.8462\n",
      "Epoch 8/100\n",
      "2/2 [==============================] - 2s 1s/step - loss: 0.6067 - accuracy: 0.9020 - val_loss: 1157.1536 - val_accuracy: 0.8462\n",
      "Epoch 9/100\n",
      "2/2 [==============================] - 2s 850ms/step - loss: 0.3247 - accuracy: 0.9020 - val_loss: 1150.4344 - val_accuracy: 0.8462\n",
      "Epoch 10/100\n",
      "2/2 [==============================] - 2s 1s/step - loss: 0.2579 - accuracy: 0.8824 - val_loss: 1152.0887 - val_accuracy: 0.8462\n",
      "Epoch 11/100\n",
      "2/2 [==============================] - 2s 853ms/step - loss: 0.7461 - accuracy: 0.8431 - val_loss: 1204.8585 - val_accuracy: 0.8462\n",
      "Epoch 12/100\n",
      "2/2 [==============================] - 2s 893ms/step - loss: 0.3124 - accuracy: 0.8627 - val_loss: 1333.5404 - val_accuracy: 0.8462\n",
      "Epoch 13/100\n",
      "2/2 [==============================] - 2s 846ms/step - loss: 0.5270 - accuracy: 0.9804 - val_loss: 1452.9683 - val_accuracy: 0.8462\n",
      "Epoch 14/100\n",
      "2/2 [==============================] - 2s 843ms/step - loss: 0.4799 - accuracy: 0.9412 - val_loss: 1518.5574 - val_accuracy: 0.8462\n",
      "Epoch 15/100\n",
      "2/2 [==============================] - 2s 849ms/step - loss: 0.3217 - accuracy: 0.9020 - val_loss: 1526.3092 - val_accuracy: 0.8462\n",
      "Epoch 16/100\n",
      "2/2 [==============================] - 2s 1s/step - loss: 0.4629 - accuracy: 0.9412 - val_loss: 1507.6873 - val_accuracy: 0.8462\n",
      "Epoch 17/100\n",
      "2/2 [==============================] - 2s 837ms/step - loss: 0.2197 - accuracy: 0.9412 - val_loss: 1492.6445 - val_accuracy: 0.8462\n",
      "Epoch 18/100\n",
      "2/2 [==============================] - 2s 870ms/step - loss: 0.4858 - accuracy: 0.8824 - val_loss: 1528.3502 - val_accuracy: 0.8462\n",
      "Epoch 19/100\n",
      "2/2 [==============================] - 2s 888ms/step - loss: 0.0939 - accuracy: 0.9608 - val_loss: 1595.6112 - val_accuracy: 0.8462\n",
      "Epoch 20/100\n",
      "2/2 [==============================] - 2s 833ms/step - loss: 0.4767 - accuracy: 0.9020 - val_loss: 1680.0267 - val_accuracy: 0.8462\n",
      "Epoch 21/100\n",
      "2/2 [==============================] - 2s 855ms/step - loss: 0.2640 - accuracy: 0.9804 - val_loss: 1738.3579 - val_accuracy: 0.8462\n",
      "Epoch 22/100\n",
      "2/2 [==============================] - 2s 836ms/step - loss: 0.3753 - accuracy: 0.9412 - val_loss: 1777.4077 - val_accuracy: 0.8462\n",
      "Epoch 23/100\n",
      "2/2 [==============================] - 2s 883ms/step - loss: 0.1187 - accuracy: 0.9804 - val_loss: 1827.7548 - val_accuracy: 0.8462\n",
      "Epoch 24/100\n",
      "2/2 [==============================] - 2s 897ms/step - loss: 0.1831 - accuracy: 0.9412 - val_loss: 1855.8651 - val_accuracy: 0.8462\n",
      "Epoch 25/100\n",
      "2/2 [==============================] - 2s 863ms/step - loss: 0.0941 - accuracy: 0.9412 - val_loss: 1838.8777 - val_accuracy: 0.8462\n",
      "Epoch 26/100\n",
      "2/2 [==============================] - 2s 1s/step - loss: 0.2077 - accuracy: 0.9412 - val_loss: 1819.5251 - val_accuracy: 0.8462\n",
      "Epoch 27/100\n",
      "2/2 [==============================] - 2s 1s/step - loss: 0.2408 - accuracy: 0.9412 - val_loss: 1823.6538 - val_accuracy: 0.8462\n",
      "Epoch 28/100\n",
      "2/2 [==============================] - 2s 895ms/step - loss: 0.0777 - accuracy: 0.9608 - val_loss: 1867.2716 - val_accuracy: 0.8462\n",
      "Epoch 29/100\n",
      "2/2 [==============================] - 2s 893ms/step - loss: 0.0857 - accuracy: 0.9608 - val_loss: 1932.5060 - val_accuracy: 0.8462\n",
      "Epoch 30/100\n",
      "2/2 [==============================] - 2s 917ms/step - loss: 0.3571 - accuracy: 0.9216 - val_loss: 1998.0607 - val_accuracy: 0.8462\n",
      "Epoch 31/100\n",
      "2/2 [==============================] - 2s 913ms/step - loss: 0.3536 - accuracy: 0.9608 - val_loss: 2017.2144 - val_accuracy: 0.8462\n",
      "Epoch 32/100\n",
      "2/2 [==============================] - 2s 887ms/step - loss: 0.1418 - accuracy: 0.9804 - val_loss: 2009.7501 - val_accuracy: 0.8462\n",
      "Epoch 33/100\n",
      "2/2 [==============================] - 2s 898ms/step - loss: 0.1979 - accuracy: 0.9216 - val_loss: 2018.1013 - val_accuracy: 0.8462\n",
      "Epoch 34/100\n",
      "2/2 [==============================] - 2s 925ms/step - loss: 0.1934 - accuracy: 0.9412 - val_loss: 2063.6763 - val_accuracy: 0.8462\n",
      "Epoch 35/100\n",
      "2/2 [==============================] - 2s 883ms/step - loss: 0.0608 - accuracy: 0.9608 - val_loss: 2123.9753 - val_accuracy: 0.8462\n",
      "Epoch 36/100\n",
      "2/2 [==============================] - 2s 879ms/step - loss: 0.1527 - accuracy: 0.9804 - val_loss: 2195.5940 - val_accuracy: 0.8462\n",
      "Epoch 37/100\n",
      "2/2 [==============================] - 2s 883ms/step - loss: 0.4022 - accuracy: 0.9608 - val_loss: 2244.5068 - val_accuracy: 0.8462\n",
      "Epoch 38/100\n",
      "2/2 [==============================] - 2s 897ms/step - loss: 0.0994 - accuracy: 0.9804 - val_loss: 2265.0291 - val_accuracy: 0.8462\n",
      "Epoch 39/100\n",
      "2/2 [==============================] - 2s 894ms/step - loss: 0.2394 - accuracy: 0.9216 - val_loss: 2260.2581 - val_accuracy: 0.8462\n",
      "Epoch 40/100\n",
      "2/2 [==============================] - 2s 889ms/step - loss: 0.1722 - accuracy: 0.9412 - val_loss: 2249.4465 - val_accuracy: 0.8462\n",
      "Epoch 41/100\n",
      "2/2 [==============================] - 2s 1s/step - loss: 0.1040 - accuracy: 0.9412 - val_loss: 2247.6067 - val_accuracy: 0.8462\n",
      "Epoch 42/100\n",
      "2/2 [==============================] - 2s 1s/step - loss: 0.0410 - accuracy: 0.9804 - val_loss: 2270.7695 - val_accuracy: 0.8462\n",
      "Epoch 43/100\n",
      "2/2 [==============================] - 2s 1s/step - loss: 0.3669 - accuracy: 0.9216 - val_loss: 2328.9629 - val_accuracy: 0.8462\n",
      "Epoch 44/100\n",
      "2/2 [==============================] - 2s 891ms/step - loss: 0.0759 - accuracy: 0.9804 - val_loss: 2405.3818 - val_accuracy: 0.8462\n",
      "Epoch 45/100\n",
      "2/2 [==============================] - 2s 884ms/step - loss: 0.1311 - accuracy: 0.9412 - val_loss: 2448.0583 - val_accuracy: 0.8462\n",
      "Epoch 46/100\n",
      "2/2 [==============================] - 2s 1s/step - loss: 0.0307 - accuracy: 0.9804 - val_loss: 2469.5994 - val_accuracy: 0.8462\n",
      "Epoch 47/100\n",
      "2/2 [==============================] - 2s 884ms/step - loss: 0.1212 - accuracy: 0.9804 - val_loss: 2483.2769 - val_accuracy: 0.8462\n",
      "Epoch 48/100\n",
      "2/2 [==============================] - 2s 1s/step - loss: 0.1962 - accuracy: 0.9608 - val_loss: 2505.9292 - val_accuracy: 0.8462\n",
      "Epoch 49/100\n",
      "2/2 [==============================] - 2s 901ms/step - loss: 0.0106 - accuracy: 1.0000 - val_loss: 2548.9170 - val_accuracy: 0.8462\n",
      "Epoch 50/100\n",
      "2/2 [==============================] - 2s 882ms/step - loss: 0.3763 - accuracy: 0.9608 - val_loss: 2588.8279 - val_accuracy: 0.8462\n",
      "Epoch 51/100\n",
      "2/2 [==============================] - 2s 1s/step - loss: 0.0560 - accuracy: 0.9804 - val_loss: 2634.5068 - val_accuracy: 0.8462\n",
      "Epoch 52/100\n",
      "2/2 [==============================] - 2s 891ms/step - loss: 0.0878 - accuracy: 0.9608 - val_loss: 2657.5352 - val_accuracy: 0.8462\n",
      "Epoch 53/100\n",
      "2/2 [==============================] - 2s 880ms/step - loss: 0.0146 - accuracy: 1.0000 - val_loss: 2662.4358 - val_accuracy: 0.8462\n",
      "Epoch 54/100\n",
      "2/2 [==============================] - 2s 887ms/step - loss: 0.0777 - accuracy: 0.9608 - val_loss: 2667.5115 - val_accuracy: 0.8462\n",
      "Epoch 55/100\n",
      "2/2 [==============================] - 2s 899ms/step - loss: 0.0854 - accuracy: 0.9804 - val_loss: 2673.8081 - val_accuracy: 0.8462\n",
      "Epoch 56/100\n",
      "2/2 [==============================] - 2s 1s/step - loss: 0.0167 - accuracy: 0.9804 - val_loss: 2659.3042 - val_accuracy: 0.8462\n",
      "Epoch 57/100\n",
      "2/2 [==============================] - 2s 1s/step - loss: 0.0526 - accuracy: 0.9804 - val_loss: 2645.5034 - val_accuracy: 0.8462\n",
      "Epoch 58/100\n",
      "2/2 [==============================] - 2s 895ms/step - loss: 0.1352 - accuracy: 0.9412 - val_loss: 2655.8318 - val_accuracy: 0.8462\n",
      "Epoch 59/100\n",
      "2/2 [==============================] - 2s 1s/step - loss: 0.3555 - accuracy: 0.9608 - val_loss: 2742.3975 - val_accuracy: 0.8462\n",
      "Epoch 60/100\n",
      "2/2 [==============================] - 2s 1s/step - loss: 0.3338 - accuracy: 0.9804 - val_loss: 2814.7798 - val_accuracy: 0.8462\n",
      "Epoch 61/100\n",
      "2/2 [==============================] - 2s 1s/step - loss: 0.1651 - accuracy: 0.9804 - val_loss: 2858.6746 - val_accuracy: 0.8462\n",
      "Epoch 62/100\n",
      "2/2 [==============================] - 2s 892ms/step - loss: 0.1907 - accuracy: 0.9608 - val_loss: 2865.3252 - val_accuracy: 0.8462\n",
      "Epoch 63/100\n",
      "2/2 [==============================] - 2s 882ms/step - loss: 0.1312 - accuracy: 0.9804 - val_loss: 2855.4790 - val_accuracy: 0.8462\n",
      "Epoch 64/100\n",
      "2/2 [==============================] - 2s 1s/step - loss: 0.0274 - accuracy: 0.9804 - val_loss: 2831.2815 - val_accuracy: 0.8462\n",
      "Epoch 65/100\n",
      "2/2 [==============================] - 2s 1s/step - loss: 0.0869 - accuracy: 0.9608 - val_loss: 2799.4053 - val_accuracy: 0.8462\n",
      "Epoch 66/100\n",
      "2/2 [==============================] - 2s 1s/step - loss: 0.0596 - accuracy: 0.9608 - val_loss: 2792.0457 - val_accuracy: 0.8462\n",
      "Epoch 67/100\n",
      "2/2 [==============================] - 2s 1s/step - loss: 0.3015 - accuracy: 0.9412 - val_loss: 2816.6292 - val_accuracy: 0.8462\n",
      "Epoch 68/100\n",
      "2/2 [==============================] - 2s 869ms/step - loss: 0.0132 - accuracy: 1.0000 - val_loss: 2871.5427 - val_accuracy: 0.8462\n",
      "Epoch 69/100\n",
      "2/2 [==============================] - 2s 1s/step - loss: 0.1719 - accuracy: 0.9608 - val_loss: 2935.7244 - val_accuracy: 0.8462\n",
      "Epoch 70/100\n",
      "2/2 [==============================] - 2s 979ms/step - loss: 0.1151 - accuracy: 0.9804 - val_loss: 2991.3186 - val_accuracy: 0.8462\n",
      "Epoch 71/100\n",
      "2/2 [==============================] - 2s 844ms/step - loss: 0.1344 - accuracy: 0.9608 - val_loss: 3003.6174 - val_accuracy: 0.8462\n",
      "Epoch 72/100\n",
      "2/2 [==============================] - 2s 1s/step - loss: 0.0836 - accuracy: 0.9804 - val_loss: 2981.6460 - val_accuracy: 0.8462\n",
      "Epoch 73/100\n",
      "2/2 [==============================] - 2s 840ms/step - loss: 0.0221 - accuracy: 1.0000 - val_loss: 2969.0432 - val_accuracy: 0.8462\n",
      "Epoch 74/100\n",
      "2/2 [==============================] - 2s 1s/step - loss: 0.0822 - accuracy: 0.9608 - val_loss: 2984.7952 - val_accuracy: 0.8462\n",
      "Epoch 75/100\n",
      "2/2 [==============================] - 2s 1s/step - loss: 0.0140 - accuracy: 1.0000 - val_loss: 3000.3687 - val_accuracy: 0.8462\n",
      "Epoch 76/100\n",
      "2/2 [==============================] - 2s 854ms/step - loss: 0.0230 - accuracy: 1.0000 - val_loss: 3015.5295 - val_accuracy: 0.8462\n",
      "Epoch 77/100\n",
      "2/2 [==============================] - 2s 1s/step - loss: 0.0491 - accuracy: 0.9804 - val_loss: 3050.2278 - val_accuracy: 0.8462\n",
      "Epoch 78/100\n",
      "2/2 [==============================] - 2s 1s/step - loss: 0.1128 - accuracy: 0.9216 - val_loss: 3089.1646 - val_accuracy: 0.8462\n",
      "Epoch 79/100\n",
      "2/2 [==============================] - 2s 1s/step - loss: 0.2452 - accuracy: 0.9608 - val_loss: 3126.9883 - val_accuracy: 0.8462\n",
      "Epoch 80/100\n",
      "2/2 [==============================] - 2s 845ms/step - loss: 0.1103 - accuracy: 0.9804 - val_loss: 3147.2185 - val_accuracy: 0.8462\n",
      "Epoch 81/100\n",
      "2/2 [==============================] - 2s 1s/step - loss: 0.1002 - accuracy: 0.9804 - val_loss: 3154.9868 - val_accuracy: 0.8462\n",
      "Epoch 82/100\n",
      "2/2 [==============================] - 2s 836ms/step - loss: 0.0029 - accuracy: 1.0000 - val_loss: 3170.1416 - val_accuracy: 0.8462\n",
      "Epoch 83/100\n",
      "2/2 [==============================] - 2s 848ms/step - loss: 0.0285 - accuracy: 0.9804 - val_loss: 3204.0210 - val_accuracy: 0.8462\n",
      "Epoch 84/100\n",
      "2/2 [==============================] - 2s 1s/step - loss: 0.1382 - accuracy: 0.9608 - val_loss: 3236.0811 - val_accuracy: 0.8462\n",
      "Epoch 85/100\n",
      "2/2 [==============================] - 2s 1s/step - loss: 0.1272 - accuracy: 0.9412 - val_loss: 3280.5625 - val_accuracy: 0.8462\n",
      "Epoch 86/100\n",
      "2/2 [==============================] - 2s 833ms/step - loss: 0.0322 - accuracy: 0.9804 - val_loss: 3317.6057 - val_accuracy: 0.8462\n",
      "Epoch 87/100\n",
      "2/2 [==============================] - 2s 833ms/step - loss: 0.0539 - accuracy: 0.9804 - val_loss: 3343.4465 - val_accuracy: 0.8462\n",
      "Epoch 88/100\n",
      "2/2 [==============================] - 2s 852ms/step - loss: 0.0030 - accuracy: 1.0000 - val_loss: 3366.6880 - val_accuracy: 0.8462\n",
      "Epoch 89/100\n",
      "2/2 [==============================] - 2s 1s/step - loss: 0.0148 - accuracy: 1.0000 - val_loss: 3400.2522 - val_accuracy: 0.8462\n",
      "Epoch 90/100\n",
      "2/2 [==============================] - 2s 838ms/step - loss: 0.2248 - accuracy: 0.9608 - val_loss: 3416.9951 - val_accuracy: 0.8462\n",
      "Epoch 91/100\n",
      "2/2 [==============================] - 2s 1s/step - loss: 0.3355 - accuracy: 0.9412 - val_loss: 3393.7708 - val_accuracy: 0.8462\n",
      "Epoch 92/100\n",
      "2/2 [==============================] - 2s 1s/step - loss: 0.0926 - accuracy: 0.9608 - val_loss: 3363.0054 - val_accuracy: 0.8462\n",
      "Epoch 93/100\n",
      "2/2 [==============================] - 2s 845ms/step - loss: 0.1984 - accuracy: 0.9412 - val_loss: 3358.3276 - val_accuracy: 0.8462\n",
      "Epoch 94/100\n",
      "2/2 [==============================] - 2s 1s/step - loss: 0.0266 - accuracy: 1.0000 - val_loss: 3384.2200 - val_accuracy: 0.8462\n",
      "Epoch 95/100\n",
      "2/2 [==============================] - 2s 1s/step - loss: 0.1483 - accuracy: 0.9804 - val_loss: 3427.2488 - val_accuracy: 0.8462\n",
      "Epoch 96/100\n",
      "2/2 [==============================] - 2s 1s/step - loss: 0.1341 - accuracy: 0.9804 - val_loss: 3472.6702 - val_accuracy: 0.8462\n",
      "Epoch 97/100\n",
      "2/2 [==============================] - 2s 836ms/step - loss: 0.2809 - accuracy: 0.9412 - val_loss: 3561.6182 - val_accuracy: 0.8462\n",
      "Epoch 98/100\n",
      "2/2 [==============================] - 2s 834ms/step - loss: 8.8387e-04 - accuracy: 1.0000 - val_loss: 3647.5391 - val_accuracy: 0.8462\n",
      "Epoch 99/100\n",
      "2/2 [==============================] - 2s 1s/step - loss: 0.0430 - accuracy: 0.9804 - val_loss: 3691.7026 - val_accuracy: 0.8462\n",
      "Epoch 100/100\n",
      "2/2 [==============================] - 2s 829ms/step - loss: 0.3211 - accuracy: 0.9608 - val_loss: 3697.3804 - val_accuracy: 0.8462\n"
     ]
    },
    {
     "data": {
      "text/plain": [
       "<keras.src.callbacks.History at 0x232407436a0>"
      ]
     },
     "execution_count": 14,
     "metadata": {},
     "output_type": "execute_result"
    }
   ],
   "source": [
    "# from tensorflow.keras.preprocessing.image import ImageDataGenerator\n",
    "\n",
    "# # Create an instance of ImageDataGenerator with desired augmentation parameters\n",
    "# datagen = ImageDataGenerator(\n",
    "#     rotation_range=10,        # Rotate images by up to 10 degrees\n",
    "#     width_shift_range=0.1,    # Shift images horizontally by up to 10% of the width\n",
    "#     height_shift_range=0.1,   # Shift images vertically by up to 10% of the height\n",
    "#     shear_range=0.1,          # Shear images by up to 10%\n",
    "#     zoom_range=0.1,           # Zoom images by up to 10%\n",
    "#     horizontal_flip=True,     # Flip images horizontally\n",
    "#     vertical_flip=False,      # Do not flip images vertically\n",
    "#     rescale=1./255            # Normalize pixel values to [0, 1]\n",
    "# )\n",
    "\n",
    "# # Create a generator to apply the augmentation to your data\n",
    "# augmented_data_generator = datagen.flow(X_train_resized, y_train, batch_size=32)\n",
    "\n",
    "# # Use the augmented_data_generator in model.fit() instead of passing X_train and y_train directly\n",
    "# upd_model.fit(augmented_data_generator, epochs=100, validation_data=(X_test_resized, y_test))"
   ]
  },
  {
   "cell_type": "code",
   "execution_count": 27,
   "metadata": {},
   "outputs": [],
   "source": [
    "# batch_size = 32\n",
    "# num_samples = X_train.shape[0]\n",
    "\n",
    "# # Define the augmentation parameters\n",
    "# datagen = ImageDataGenerator(\n",
    "#     rotation_range=10,\n",
    "#     width_shift_range=0.1,\n",
    "#     height_shift_range=0.1,\n",
    "#     shear_range=0.1,\n",
    "#     zoom_range=0.1,\n",
    "#     horizontal_flip=True,\n",
    "#     vertical_flip=True,\n",
    "#     rescale=1./255  # Normalize pixel values to [0, 1]\n",
    "# )\n",
    "\n",
    "# # Initialize an empty list to store augmented images\n",
    "# augmented_images = []\n",
    "\n",
    "# # Generate augmented images for each image in X_train\n",
    "# for image in X_train_resized:\n",
    "#     # Apply augmentation transformation to the image\n",
    "#     augmented_image = datagen.apply_transform(image, datagen.get_random_transform(image.shape))\n",
    "#     # Append the augmented image to the list\n",
    "#     augmented_images.append(augmented_image)\n",
    "\n",
    "# # Convert the list of augmented images to a numpy array\n",
    "# augmented_images_array = np.array(augmented_images)"
   ]
  },
  {
   "cell_type": "code",
   "execution_count": 28,
   "metadata": {},
   "outputs": [
    {
     "data": {
      "text/plain": [
       "(51, 224, 224, 3)"
      ]
     },
     "execution_count": 28,
     "metadata": {},
     "output_type": "execute_result"
    }
   ],
   "source": [
    "# augmented_images_array.shape"
   ]
  },
  {
   "cell_type": "code",
   "execution_count": 17,
   "metadata": {},
   "outputs": [
    {
     "data": {
      "text/plain": [
       "(51, 224, 224, 3)"
      ]
     },
     "execution_count": 17,
     "metadata": {},
     "output_type": "execute_result"
    }
   ],
   "source": [
    "# X_train_resized.shape"
   ]
  },
  {
   "cell_type": "code",
   "execution_count": null,
   "metadata": {},
   "outputs": [],
   "source": []
  },
  {
   "cell_type": "code",
   "execution_count": 5,
   "metadata": {},
   "outputs": [
    {
     "name": "stdout",
     "output_type": "stream",
     "text": [
      "Model: \"sequential\"\n",
      "_________________________________________________________________\n",
      " Layer (type)                Output Shape              Param #   \n",
      "=================================================================\n",
      " MobilenetV3large (Function  (None, 7, 7, 960)         2996352   \n",
      " al)                                                             \n",
      "                                                                 \n",
      " flatten (Flatten)           (None, 47040)             0         \n",
      "                                                                 \n",
      " dropout (Dropout)           (None, 47040)             0         \n",
      "                                                                 \n",
      " dense (Dense)               (None, 32)                1505312   \n",
      "                                                                 \n",
      " dense_1 (Dense)             (None, 1)                 33        \n",
      "                                                                 \n",
      "=================================================================\n",
      "Total params: 4501697 (17.17 MB)\n",
      "Trainable params: 1505345 (5.74 MB)\n",
      "Non-trainable params: 2996352 (11.43 MB)\n",
      "_________________________________________________________________\n"
     ]
    }
   ],
   "source": [
    "from tensorflow.keras.applications import MobileNetV3Large\n",
    "from tensorflow.keras.layers import Flatten, Dense, Dropout\n",
    "from tensorflow.keras.models import Sequential\n",
    "from tensorflow.keras.regularizers import l2\n",
    "from tensorflow.keras.optimizers import Adam\n",
    "from tensorflow.keras.callbacks import EarlyStopping\n",
    "from tensorflow.keras.metrics import AUC\n",
    "import numpy as np\n",
    "\n",
    "X_train_path = 'artifacts/data_transformation/X_train.npy'\n",
    "X_test_path = 'artifacts/data_transformation/X_test.npy'\n",
    "y_train_path = 'artifacts/data_transformation/y_train.npy'\n",
    "y_test_path = 'artifacts/data_transformation/y_test.npy'\n",
    "\n",
    "X_train = np.load(X_train_path)\n",
    "X_test = np.load(X_test_path)\n",
    "y_train = np.load(y_train_path)\n",
    "y_test = np.load(y_test_path)\n",
    "\n",
    "base_model = MobileNetV3Large(include_top=False, weights='imagenet', input_shape=(224, 224, 3))\n",
    "for layer in base_model.layers:\n",
    "    layer.trainable = False\n",
    "    \n",
    "upd_model = Sequential([\n",
    "                base_model,\n",
    "                Flatten(),\n",
    "                Dropout(0.5),\n",
    "                Dense(32, activation='relu'),\n",
    "                Dense(1, activation = 'sigmoid')\n",
    "            ])\n",
    "upd_model.compile(optimizer = Adam(learning_rate = 0.001), loss = 'binary_crossentropy', metrics = ['accuracy', AUC(name='auc')])\n",
    "upd_model.summary()"
   ]
  },
  {
   "cell_type": "code",
   "execution_count": 13,
   "metadata": {},
   "outputs": [
    {
     "name": "stdout",
     "output_type": "stream",
     "text": [
      "Epoch 1/100\n",
      "131/131 [==============================] - 50s 365ms/step - loss: 0.2935 - accuracy: 0.8717 - auc: 0.9488 - val_loss: 0.1205 - val_accuracy: 0.9698 - val_auc: 0.9575\n",
      "Epoch 2/100\n",
      "131/131 [==============================] - 47s 357ms/step - loss: 0.0744 - accuracy: 0.9703 - auc: 0.9967 - val_loss: 0.1448 - val_accuracy: 0.9615 - val_auc: 0.9664\n",
      "Epoch 3/100\n",
      "131/131 [==============================] - 46s 354ms/step - loss: 0.0364 - accuracy: 0.9868 - auc: 0.9993 - val_loss: 0.1321 - val_accuracy: 0.9698 - val_auc: 0.9626\n",
      "Epoch 4/100\n",
      "131/131 [==============================] - 47s 363ms/step - loss: 0.0381 - accuracy: 0.9878 - auc: 0.9984 - val_loss: 0.1231 - val_accuracy: 0.9682 - val_auc: 0.9710\n",
      "Epoch 5/100\n",
      "131/131 [==============================] - 47s 356ms/step - loss: 0.0358 - accuracy: 0.9895 - auc: 0.9985 - val_loss: 0.1049 - val_accuracy: 0.9715 - val_auc: 0.9666\n",
      "Epoch 6/100\n",
      "131/131 [==============================] - 46s 355ms/step - loss: 0.0452 - accuracy: 0.9823 - auc: 0.9985 - val_loss: 0.1115 - val_accuracy: 0.9749 - val_auc: 0.9729\n",
      "Epoch 7/100\n",
      "131/131 [==============================] - 47s 357ms/step - loss: 0.0297 - accuracy: 0.9885 - auc: 0.9995 - val_loss: 0.0948 - val_accuracy: 0.9849 - val_auc: 0.9743\n",
      "Epoch 8/100\n",
      "131/131 [==============================] - 47s 357ms/step - loss: 0.0264 - accuracy: 0.9888 - auc: 0.9996 - val_loss: 0.2031 - val_accuracy: 0.9414 - val_auc: 0.9700\n",
      "Epoch 9/100\n",
      "131/131 [==============================] - 47s 357ms/step - loss: 0.0245 - accuracy: 0.9897 - auc: 0.9994 - val_loss: 0.1013 - val_accuracy: 0.9799 - val_auc: 0.9757\n",
      "Epoch 10/100\n",
      "131/131 [==============================] - 47s 357ms/step - loss: 0.0155 - accuracy: 0.9950 - auc: 0.9996 - val_loss: 0.1272 - val_accuracy: 0.9799 - val_auc: 0.9707\n",
      "Epoch 11/100\n",
      "131/131 [==============================] - 46s 355ms/step - loss: 0.0160 - accuracy: 0.9945 - auc: 0.9996 - val_loss: 0.1254 - val_accuracy: 0.9816 - val_auc: 0.9711\n",
      "Epoch 12/100\n",
      "131/131 [==============================] - 47s 357ms/step - loss: 0.0105 - accuracy: 0.9962 - auc: 0.9999 - val_loss: 0.1501 - val_accuracy: 0.9799 - val_auc: 0.9651\n"
     ]
    },
    {
     "data": {
      "text/plain": [
       "<keras.src.callbacks.History at 0x218ee9195e0>"
      ]
     },
     "execution_count": 13,
     "metadata": {},
     "output_type": "execute_result"
    }
   ],
   "source": [
    "early_stopping = EarlyStopping(monitor='val_auc', patience=3, restore_best_weights=True)\n",
    "upd_model.fit(X_train, y_train, epochs = 100, batch_size = 32, validation_data = [X_test, y_test], callbacks=[early_stopping])"
   ]
  },
  {
   "cell_type": "code",
   "execution_count": 14,
   "metadata": {},
   "outputs": [],
   "source": [
    "#upd_model.save('best_model5.keras')"
   ]
  },
  {
   "cell_type": "code",
   "execution_count": null,
   "metadata": {},
   "outputs": [],
   "source": []
  },
  {
   "cell_type": "code",
   "execution_count": 5,
   "metadata": {},
   "outputs": [],
   "source": [
    "from dataclasses import dataclass\n",
    "from pathlib import Path\n",
    "\n",
    "@dataclass(frozen=True)\n",
    "class ModelPreparationConfig:\n",
    "    root_dir: Path\n",
    "    base_model_path: Path\n",
    "    updated_model_path: int\n",
    "    metrics: list\n",
    "    learning_rate: float"
   ]
  },
  {
   "cell_type": "code",
   "execution_count": 6,
   "metadata": {},
   "outputs": [],
   "source": [
    "from audioClassifier.constants import *\n",
    "from audioClassifier.utils.common import open_yaml_file, create_directories"
   ]
  },
  {
   "cell_type": "code",
   "execution_count": 7,
   "metadata": {},
   "outputs": [],
   "source": [
    "class ConfigManager:\n",
    "    def __init__(self, config_file = CONFIG_PATH, params_file = PARAMS_PATH):\n",
    "        self.config = open_yaml_file(config_file)\n",
    "        self.params = open_yaml_file(params_file)\n",
    "        \n",
    "        create_directories([self.config.artifacts_root])\n",
    "        \n",
    "    def read_model_prep_config(self) -> ModelPreparationConfig:\n",
    "        model_prep = self.config.model_preparation\n",
    "        \n",
    "        create_directories([self.config.model_preparation.root_dir])\n",
    "        \n",
    "        model_prep_config = ModelPreparationConfig(\n",
    "            root_dir = model_prep.root_dir,\n",
    "            base_model_path = model_prep.base_model_path,\n",
    "            updated_model_path = model_prep.updated_model_path,\n",
    "            metrics = self.params.metrics,\n",
    "            learning_rate = self.params.learning_rate   \n",
    "        )\n",
    "        \n",
    "        return model_prep_config"
   ]
  },
  {
   "cell_type": "code",
   "execution_count": 8,
   "metadata": {},
   "outputs": [],
   "source": [
    "from tensorflow.keras.applications import MobileNetV3Large\n",
    "from tensorflow.keras.layers import Flatten, Dense, Dropout\n",
    "from tensorflow.keras.models import Sequential\n",
    "from tensorflow.keras.regularizers import l2\n",
    "from tensorflow.keras.optimizers import Adam\n",
    "from tensorflow.keras.metrics import AUC\n",
    "from audioClassifier import logger"
   ]
  },
  {
   "cell_type": "code",
   "execution_count": 9,
   "metadata": {},
   "outputs": [],
   "source": [
    "class ModelPreparation:\n",
    "    def __init__(self, config: ModelPreparationConfig):\n",
    "        self.config = config\n",
    "        \n",
    "    def _build_base_model(self):\n",
    "        try:\n",
    "            base_model = MobileNetV3Large(include_top=False, weights='imagenet', input_shape=(224, 224, 3))\n",
    "            for layer in base_model.layers:\n",
    "                layer.trainable = False\n",
    "            base_model.save(self.config.base_model_path)\n",
    "            logger.info(f\"MobileNetV3Large Base Model built successfully and saved to {self.config.base_model_path}.\")\n",
    "            return base_model\n",
    "        except Exception as e:\n",
    "            logger.error(f\"Error building and saving base model: {e}\")\n",
    "            raise e\n",
    "    \n",
    "    def build_full_model(self):\n",
    "        try:\n",
    "            upd_model = Sequential([\n",
    "                self._build_base_model(),\n",
    "                Flatten(),\n",
    "                Dropout(0.5),\n",
    "                Dense(32, activation='relu', kernel_regularizer=l2(0.01)),\n",
    "                Dense(1, activation = 'sigmoid')\n",
    "            ])\n",
    "            upd_model.compile(optimizer = Adam(learning_rate = self.config.learning_rate), loss = 'binary_crossentropy', metrics = self.config.metrics)\n",
    "            upd_model.summary()\n",
    "            upd_model.save(self.config.updated_model_path)\n",
    "            logger.info(f\"Updated Model compiled and saved at {self.config.updated_model_path}.\")\n",
    "        except Exception as e:\n",
    "            logger.error(f\"Error building and compiling updated model: {e}\")\n",
    "            raise e"
   ]
  },
  {
   "cell_type": "code",
   "execution_count": 10,
   "metadata": {},
   "outputs": [
    {
     "name": "stderr",
     "output_type": "stream",
     "text": [
      "2024-07-21 16:01:55,425 - common.py - INFO - YAML file 'config\\config.yaml' was loaded successfully.\n",
      "2024-07-21 16:01:55,432 - common.py - INFO - YAML file 'params.yaml' was loaded successfully.\n",
      "2024-07-21 16:01:55,433 - common.py - INFO - Directory 'artifacts' created successfully or already exists.\n",
      "2024-07-21 16:01:55,434 - common.py - INFO - Directory 'artifacts/model_preparation' created successfully or already exists.\n"
     ]
    },
    {
     "name": "stderr",
     "output_type": "stream",
     "text": [
      "2024-07-21 16:01:57,058 - 2677028105.py - INFO - MobileNetV3Large Base Model built successfully and saved to artifacts/model_preparation/base_model.keras.\n"
     ]
    },
    {
     "name": "stdout",
     "output_type": "stream",
     "text": [
      "Model: \"sequential\"\n",
      "_________________________________________________________________\n",
      " Layer (type)                Output Shape              Param #   \n",
      "=================================================================\n",
      " MobilenetV3large (Function  (None, 7, 7, 960)         2996352   \n",
      " al)                                                             \n",
      "                                                                 \n",
      " flatten (Flatten)           (None, 47040)             0         \n",
      "                                                                 \n",
      " dropout (Dropout)           (None, 47040)             0         \n",
      "                                                                 \n",
      " dense (Dense)               (None, 32)                1505312   \n",
      "                                                                 \n",
      " dense_1 (Dense)             (None, 1)                 33        \n",
      "                                                                 \n",
      "=================================================================\n",
      "Total params: 4501697 (17.17 MB)\n",
      "Trainable params: 1505345 (5.74 MB)\n",
      "Non-trainable params: 2996352 (11.43 MB)\n",
      "_________________________________________________________________\n"
     ]
    },
    {
     "name": "stderr",
     "output_type": "stream",
     "text": [
      "2024-07-21 16:01:58,033 - 2677028105.py - INFO - Updated Model compiled and saved at artifacts/model_preparation/updated_model.keras.\n"
     ]
    }
   ],
   "source": [
    "try:\n",
    "    config = ConfigManager()\n",
    "    model_preparation_config = config.read_model_prep_config()\n",
    "    model_preparation = ModelPreparation(config = model_preparation_config)\n",
    "    model_preparation.build_full_model()\n",
    "except Exception as e:\n",
    "    raise e"
   ]
  }
 ],
 "metadata": {
  "kernelspec": {
   "display_name": "env",
   "language": "python",
   "name": "python3"
  },
  "language_info": {
   "codemirror_mode": {
    "name": "ipython",
    "version": 3
   },
   "file_extension": ".py",
   "mimetype": "text/x-python",
   "name": "python",
   "nbconvert_exporter": "python",
   "pygments_lexer": "ipython3",
   "version": "3.8.10"
  }
 },
 "nbformat": 4,
 "nbformat_minor": 2
}
