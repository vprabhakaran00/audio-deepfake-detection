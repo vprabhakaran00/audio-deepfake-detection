{
 "cells": [
  {
   "cell_type": "code",
   "execution_count": 1,
   "metadata": {},
   "outputs": [
    {
     "data": {
      "text/plain": [
       "'d:\\\\Projects\\\\DeepFake Voice Recognition\\\\audio-deepfake-detection'"
      ]
     },
     "execution_count": 1,
     "metadata": {},
     "output_type": "execute_result"
    }
   ],
   "source": [
    "import os\n",
    "os.chdir('../')\n",
    "%pwd"
   ]
  },
  {
   "cell_type": "code",
   "execution_count": 2,
   "metadata": {},
   "outputs": [],
   "source": [
    "from dataclasses import dataclass\n",
    "from pathlib import Path\n",
    "\n",
    "@dataclass(frozen=True)\n",
    "class ModelEvaluationConfig:\n",
    "    root_dir: Path\n",
    "    evaluation_results_dir: Path\n",
    "    trained_model_dir: Path\n",
    "    data_dir: Path\n",
    "    metrics: list"
   ]
  },
  {
   "cell_type": "code",
   "execution_count": 3,
   "metadata": {},
   "outputs": [],
   "source": [
    "from audioClassifier.constants import *\n",
    "from audioClassifier.utils.common import open_yaml_file, create_directories, write_to_json"
   ]
  },
  {
   "cell_type": "code",
   "execution_count": 4,
   "metadata": {},
   "outputs": [],
   "source": [
    "class ConfigManager:\n",
    "    def __init__(self, config_file = CONFIG_PATH, params_file = PARAMS_PATH):\n",
    "        self.config = open_yaml_file(config_file)\n",
    "        self.params = open_yaml_file(params_file)\n",
    "        \n",
    "        create_directories([self.config.artifacts_root])\n",
    "        \n",
    "    def read_model_eval_config(self) -> ModelEvaluationConfig:\n",
    "        model_eval = self.config.model_evaluation\n",
    "        \n",
    "        create_directories([self.config.model_evaluation.root_dir])\n",
    "        \n",
    "        model_eval_config = ModelEvaluationConfig(\n",
    "            root_dir = Path(model_eval.root_dir),\n",
    "            evaluation_results_dir = Path(model_eval.evaluation_results_dir),\n",
    "            trained_model_dir = Path(self.config.model_training.trained_model_dir),\n",
    "            data_dir = Path(self.config.data_validation.data_path),\n",
    "            metrics = self.params.metrics\n",
    "        )\n",
    "        \n",
    "        return model_eval_config"
   ]
  },
  {
   "cell_type": "code",
   "execution_count": 5,
   "metadata": {},
   "outputs": [
    {
     "name": "stderr",
     "output_type": "stream",
     "text": [
      "2024-07-25 11:08:57,946 - module_wrapper.py - WARNING - From d:\\Projects\\DeepFake Voice Recognition\\audio-deepfake-detection\\venv\\lib\\site-packages\\keras\\src\\losses.py:2976: The name tf.losses.sparse_softmax_cross_entropy is deprecated. Please use tf.compat.v1.losses.sparse_softmax_cross_entropy instead.\n",
      "\n"
     ]
    }
   ],
   "source": [
    "import numpy as np\n",
    "from tensorflow.keras.models import load_model\n",
    "from audioClassifier import logger"
   ]
  },
  {
   "cell_type": "code",
   "execution_count": 6,
   "metadata": {},
   "outputs": [],
   "source": [
    "class ModelEvaluation:\n",
    "    def __init__(self, config: ModelEvaluationConfig):\n",
    "        self.config = config\n",
    "        \n",
    "    def _load_val_data(self):\n",
    "        try:\n",
    "            X_test = np.load(self.config.data_dir / 'X_test.npy')\n",
    "            y_test = np.load(self.config.data_dir / 'y_test.npy')\n",
    "            return X_test, y_test\n",
    "        except Exception as e:\n",
    "            logger.error(f\"Error loading validation data: {e}\")\n",
    "            raise e\n",
    "    \n",
    "    def _load_trained_model(self):\n",
    "        try:\n",
    "            model = load_model(str(self.config.trained_model_dir))\n",
    "            return model\n",
    "        except Exception as e:\n",
    "            logger.error(f\"Error loading the trained model: {e}\")\n",
    "            raise e\n",
    "        \n",
    "    def _parse_metrics(self, metrics_list):\n",
    "        parsed_metrics = ['loss'] + metrics_list\n",
    "        return parsed_metrics\n",
    "    \n",
    "    def evaluate_model(self):\n",
    "        X_test, y_test = self._load_val_data()\n",
    "        model = self._load_trained_model()\n",
    "        metrics_list = self._parse_metrics(self.config.metrics)\n",
    "        \n",
    "        try:\n",
    "            score = model.evaluate(X_test, y_test)\n",
    "            eval_scores = dict(zip(metrics_list, score))\n",
    "            write_to_json(eval_scores, self.config.evaluation_results_dir)\n",
    "            logger.info(f\"Model evaluated successfully and results saved to {self.config.evaluation_results_dir}.\")\n",
    "        except Exception as e:\n",
    "            logger.error(f\"Error evaluating the model: {e}\")\n",
    "            raise e"
   ]
  },
  {
   "cell_type": "code",
   "execution_count": 7,
   "metadata": {},
   "outputs": [
    {
     "name": "stderr",
     "output_type": "stream",
     "text": [
      "2024-07-25 11:08:58,566 - common.py - INFO - YAML file 'config\\config.yaml' was loaded successfully.\n",
      "2024-07-25 11:08:58,568 - common.py - INFO - YAML file 'params.yaml' was loaded successfully.\n",
      "2024-07-25 11:08:58,569 - common.py - INFO - Directory 'artifacts' created successfully or already exists.\n",
      "2024-07-25 11:08:58,570 - common.py - INFO - Directory 'artifacts/model_evaluation' created successfully or already exists.\n",
      "2024-07-25 11:08:58,921 - module_wrapper.py - WARNING - From d:\\Projects\\DeepFake Voice Recognition\\audio-deepfake-detection\\venv\\lib\\site-packages\\keras\\src\\backend.py:1398: The name tf.executing_eagerly_outside_functions is deprecated. Please use tf.compat.v1.executing_eagerly_outside_functions instead.\n",
      "\n",
      "2024-07-25 11:08:59,122 - module_wrapper.py - WARNING - From d:\\Projects\\DeepFake Voice Recognition\\audio-deepfake-detection\\venv\\lib\\site-packages\\keras\\src\\layers\\normalization\\batch_normalization.py:979: The name tf.nn.fused_batch_norm is deprecated. Please use tf.compat.v1.nn.fused_batch_norm instead.\n",
      "\n",
      "2024-07-25 11:09:07,481 - module_wrapper.py - WARNING - From d:\\Projects\\DeepFake Voice Recognition\\audio-deepfake-detection\\venv\\lib\\site-packages\\keras\\src\\utils\\tf_utils.py:492: The name tf.ragged.RaggedTensorValue is deprecated. Please use tf.compat.v1.ragged.RaggedTensorValue instead.\n",
      "\n",
      "2024-07-25 11:09:07,537 - module_wrapper.py - WARNING - From d:\\Projects\\DeepFake Voice Recognition\\audio-deepfake-detection\\venv\\lib\\site-packages\\keras\\src\\engine\\base_layer_utils.py:384: The name tf.executing_eagerly_outside_functions is deprecated. Please use tf.compat.v1.executing_eagerly_outside_functions instead.\n",
      "\n"
     ]
    },
    {
     "name": "stdout",
     "output_type": "stream",
     "text": [
      "19/19 [==============================] - 5s 204ms/step - loss: 0.1602 - accuracy: 0.9665 - auc: 0.9896 - recall: 0.9693\n"
     ]
    },
    {
     "name": "stderr",
     "output_type": "stream",
     "text": [
      "2024-07-25 11:09:12,434 - common.py - INFO - Data successfully written and saved to JSON file: 'artifacts\\model_evaluation\\evaluation_scores.json'.\n",
      "2024-07-25 11:09:12,435 - 1737105841.py - INFO - Model evaluated successfully and results saved to artifacts\\model_evaluation\\evaluation_scores.json.\n"
     ]
    }
   ],
   "source": [
    "try:\n",
    "    config = ConfigManager()\n",
    "    model_evaluation_config = config.read_model_eval_config()\n",
    "    model_evaluation = ModelEvaluation(config = model_evaluation_config)\n",
    "    model_evaluation.evaluate_model()\n",
    "except Exception as e:\n",
    "    raise e"
   ]
  }
 ],
 "metadata": {
  "kernelspec": {
   "display_name": "venv",
   "language": "python",
   "name": "python3"
  },
  "language_info": {
   "codemirror_mode": {
    "name": "ipython",
    "version": 3
   },
   "file_extension": ".py",
   "mimetype": "text/x-python",
   "name": "python",
   "nbconvert_exporter": "python",
   "pygments_lexer": "ipython3",
   "version": "3.9.13"
  }
 },
 "nbformat": 4,
 "nbformat_minor": 2
}
